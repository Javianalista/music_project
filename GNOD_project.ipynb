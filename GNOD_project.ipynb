{
 "cells": [
  {
   "cell_type": "markdown",
   "id": "879bb7d9-9a29-44e6-a46c-9339f5168988",
   "metadata": {},
   "source": [
    "## Importing the libraries"
   ]
  },
  {
   "cell_type": "code",
   "execution_count": 2,
   "id": "9eaaa41f-5c26-49ee-a850-1c13077780e0",
   "metadata": {},
   "outputs": [],
   "source": [
    "from bs4 import BeautifulSoup\n",
    "import requests\n",
    "import pandas as pd\n",
    "from random import randint\n",
    "import re\n",
    "import spotipy\n",
    "from spotipy.oauth2 import SpotifyClientCredentials\n",
    "from random import randint\n",
    "from time import sleep\n",
    "from sklearn import datasets\n",
    "# K-means\n",
    "import numpy as np\n",
    "import matplotlib.pyplot as plt\n",
    "%matplotlib inline\n",
    "from sklearn import cluster, datasets\n",
    "from sklearn.preprocessing import StandardScaler\n",
    "from matplotlib.lines import Line2D\n",
    "from sklearn.cluster import KMeans"
   ]
  },
  {
   "cell_type": "markdown",
   "id": "f38194cb-44a6-42e3-a004-e81b7b1d39a6",
   "metadata": {},
   "source": [
    "## Obtaining the web page"
   ]
  },
  {
   "cell_type": "code",
   "execution_count": 3,
   "id": "f4cab5e9-aa76-42a6-9773-ac5a61aa8135",
   "metadata": {},
   "outputs": [],
   "source": [
    "url = 'https://www.billboard.com/charts/hot-100'"
   ]
  },
  {
   "cell_type": "code",
   "execution_count": 4,
   "id": "c89adeee-aff2-4549-a8e0-9c0a2be780c5",
   "metadata": {},
   "outputs": [
    {
     "data": {
      "text/plain": [
       "200"
      ]
     },
     "execution_count": 4,
     "metadata": {},
     "output_type": "execute_result"
    }
   ],
   "source": [
    "response = requests.get(url)\n",
    "response.status_code"
   ]
  },
  {
   "cell_type": "code",
   "execution_count": 5,
   "id": "61a22313-9ea3-4c59-8724-2342e4bd9476",
   "metadata": {},
   "outputs": [],
   "source": [
    "soup = BeautifulSoup(response.content, \"html.parser\")"
   ]
  },
  {
   "cell_type": "markdown",
   "id": "6137e7fd-ce96-4c0d-8faa-99b1b62bc81d",
   "metadata": {},
   "source": [
    "## Creating the dataframe"
   ]
  },
  {
   "cell_type": "code",
   "execution_count": 6,
   "id": "6f00ed2c-4a3e-4510-ab82-6025dc45cc75",
   "metadata": {},
   "outputs": [],
   "source": [
    "titles = []\n",
    "for title in soup.select(\"h3\")[4:104]:\n",
    "    titles.append(title.get_text().strip())"
   ]
  },
  {
   "cell_type": "code",
   "execution_count": 7,
   "id": "9eb10197-001a-408a-a426-f9b684d497bc",
   "metadata": {},
   "outputs": [],
   "source": [
    "artists = []\n",
    "for artist in soup.select(\"li.o-chart-results-list__item.\\/\\/.lrv-u-flex-grow-1.lrv-u-flex.lrv-u-flex-direction-column.lrv-u-justify-content-center.lrv-u-border-b-1.u-border-b-0\\@mobile-max.lrv-u-border-color-grey-light.lrv-u-padding-l-1\\@mobile-max > span\"):\n",
    "    artists.append(artist.get_text().strip())"
   ]
  },
  {
   "cell_type": "code",
   "execution_count": 8,
   "id": "2ed52907-050a-44a5-9512-51bc9b9ee6cb",
   "metadata": {
    "tags": []
   },
   "outputs": [],
   "source": [
    "#artists"
   ]
  },
  {
   "cell_type": "code",
   "execution_count": 9,
   "id": "c5e8b855-5fab-476c-bb08-6353c6f88968",
   "metadata": {},
   "outputs": [
    {
     "data": {
      "text/html": [
       "<div>\n",
       "<style scoped>\n",
       "    .dataframe tbody tr th:only-of-type {\n",
       "        vertical-align: middle;\n",
       "    }\n",
       "\n",
       "    .dataframe tbody tr th {\n",
       "        vertical-align: top;\n",
       "    }\n",
       "\n",
       "    .dataframe thead th {\n",
       "        text-align: right;\n",
       "    }\n",
       "</style>\n",
       "<table border=\"1\" class=\"dataframe\">\n",
       "  <thead>\n",
       "    <tr style=\"text-align: right;\">\n",
       "      <th></th>\n",
       "      <th>artist</th>\n",
       "      <th>song</th>\n",
       "    </tr>\n",
       "  </thead>\n",
       "  <tbody>\n",
       "    <tr>\n",
       "      <th>0</th>\n",
       "      <td>Taylor Swift</td>\n",
       "      <td>All Too Well (Taylor's Version)</td>\n",
       "    </tr>\n",
       "    <tr>\n",
       "      <th>1</th>\n",
       "      <td>Adele</td>\n",
       "      <td>Easy On Me</td>\n",
       "    </tr>\n",
       "    <tr>\n",
       "      <th>2</th>\n",
       "      <td>The Kid LAROI &amp; Justin Bieber</td>\n",
       "      <td>Stay</td>\n",
       "    </tr>\n",
       "    <tr>\n",
       "      <th>3</th>\n",
       "      <td>Lil Nas X &amp; Jack Harlow</td>\n",
       "      <td>Industry Baby</td>\n",
       "    </tr>\n",
       "    <tr>\n",
       "      <th>4</th>\n",
       "      <td>Silk Sonic (Bruno Mars &amp; Anderson .Paak)</td>\n",
       "      <td>Smokin Out The Window</td>\n",
       "    </tr>\n",
       "    <tr>\n",
       "      <th>...</th>\n",
       "      <td>...</td>\n",
       "      <td>...</td>\n",
       "    </tr>\n",
       "    <tr>\n",
       "      <th>95</th>\n",
       "      <td>Swedish House Mafia &amp; The Weeknd</td>\n",
       "      <td>Moth To A Flame</td>\n",
       "    </tr>\n",
       "    <tr>\n",
       "      <th>96</th>\n",
       "      <td>Cody Johnson</td>\n",
       "      <td>'Til You Can't</td>\n",
       "    </tr>\n",
       "    <tr>\n",
       "      <th>97</th>\n",
       "      <td>Doja Cat</td>\n",
       "      <td>Woman</td>\n",
       "    </tr>\n",
       "    <tr>\n",
       "      <th>98</th>\n",
       "      <td>The Weeknd</td>\n",
       "      <td>Take My Breath</td>\n",
       "    </tr>\n",
       "    <tr>\n",
       "      <th>99</th>\n",
       "      <td>Giveon</td>\n",
       "      <td>For Tonight</td>\n",
       "    </tr>\n",
       "  </tbody>\n",
       "</table>\n",
       "<p>100 rows × 2 columns</p>\n",
       "</div>"
      ],
      "text/plain": [
       "                                      artist                             song\n",
       "0                               Taylor Swift  All Too Well (Taylor's Version)\n",
       "1                                      Adele                       Easy On Me\n",
       "2              The Kid LAROI & Justin Bieber                             Stay\n",
       "3                    Lil Nas X & Jack Harlow                    Industry Baby\n",
       "4   Silk Sonic (Bruno Mars & Anderson .Paak)            Smokin Out The Window\n",
       "..                                       ...                              ...\n",
       "95          Swedish House Mafia & The Weeknd                  Moth To A Flame\n",
       "96                              Cody Johnson                   'Til You Can't\n",
       "97                                  Doja Cat                            Woman\n",
       "98                                The Weeknd                   Take My Breath\n",
       "99                                    Giveon                      For Tonight\n",
       "\n",
       "[100 rows x 2 columns]"
      ]
     },
     "execution_count": 9,
     "metadata": {},
     "output_type": "execute_result"
    }
   ],
   "source": [
    "top_100 = pd.DataFrame({\"artist\": artists, \"song\": titles})\n",
    "top_100"
   ]
  },
  {
   "cell_type": "markdown",
   "id": "53cadb84-83d5-4d17-9e16-ab2d7ff76b58",
   "metadata": {},
   "source": [
    "## Obtaining the second list"
   ]
  },
  {
   "cell_type": "code",
   "execution_count": 10,
   "id": "9f8b5330-e78b-492b-94d8-2e5a7d0767ae",
   "metadata": {},
   "outputs": [],
   "source": [
    "url1 = 'https://www.elportaldemusica.es/lists/top-100-canciones/2021/45'"
   ]
  },
  {
   "cell_type": "code",
   "execution_count": 11,
   "id": "d93dcded-9846-4405-bdfd-653c333a850b",
   "metadata": {},
   "outputs": [
    {
     "data": {
      "text/plain": [
       "200"
      ]
     },
     "execution_count": 11,
     "metadata": {},
     "output_type": "execute_result"
    }
   ],
   "source": [
    "response1 = requests.get(url1)\n",
    "response1.status_code"
   ]
  },
  {
   "cell_type": "code",
   "execution_count": 12,
   "id": "3b015257-3eb3-4b47-b9f7-8df449f85acc",
   "metadata": {},
   "outputs": [],
   "source": [
    "soup1 = BeautifulSoup(response1.content, \"html.parser\")"
   ]
  },
  {
   "cell_type": "code",
   "execution_count": 13,
   "id": "fb669721-6ad1-4376-8ab5-09247090b05a",
   "metadata": {
    "tags": []
   },
   "outputs": [],
   "source": [
    "#soup1"
   ]
  },
  {
   "cell_type": "code",
   "execution_count": 14,
   "id": "ac22cc18-5bb2-46c2-b42b-5ea6fa04b11f",
   "metadata": {},
   "outputs": [],
   "source": [
    "artists1 = []\n",
    "for name in soup1.select(\"div.related\"):\n",
    "    artists1.append(name.get_text().strip())"
   ]
  },
  {
   "cell_type": "code",
   "execution_count": 15,
   "id": "93f19d9f-dd15-4945-a1ab-844f05eedbc2",
   "metadata": {},
   "outputs": [],
   "source": [
    "songs1 = []\n",
    "for name in soup1.select(\"div.name\"):\n",
    "    songs1.append(name.get_text().strip())"
   ]
  },
  {
   "cell_type": "code",
   "execution_count": 16,
   "id": "bb53ad55-bc2b-4352-87f3-9d3919cb53b6",
   "metadata": {},
   "outputs": [
    {
     "data": {
      "text/html": [
       "<div>\n",
       "<style scoped>\n",
       "    .dataframe tbody tr th:only-of-type {\n",
       "        vertical-align: middle;\n",
       "    }\n",
       "\n",
       "    .dataframe tbody tr th {\n",
       "        vertical-align: top;\n",
       "    }\n",
       "\n",
       "    .dataframe thead th {\n",
       "        text-align: right;\n",
       "    }\n",
       "</style>\n",
       "<table border=\"1\" class=\"dataframe\">\n",
       "  <thead>\n",
       "    <tr style=\"text-align: right;\">\n",
       "      <th></th>\n",
       "      <th>artist</th>\n",
       "      <th>song</th>\n",
       "    </tr>\n",
       "  </thead>\n",
       "  <tbody>\n",
       "    <tr>\n",
       "      <th>0</th>\n",
       "      <td>C. Tangana, Nathy Peluso</td>\n",
       "      <td>Ateo</td>\n",
       "    </tr>\n",
       "    <tr>\n",
       "      <th>1</th>\n",
       "      <td>zzoilo, Aitana</td>\n",
       "      <td>Mon Amour (remix)</td>\n",
       "    </tr>\n",
       "    <tr>\n",
       "      <th>2</th>\n",
       "      <td>BIZARRAP / ANUEL AA</td>\n",
       "      <td>ANUEL AA: BZRP MUSIC SESSION: VOL. 46</td>\n",
       "    </tr>\n",
       "    <tr>\n",
       "      <th>3</th>\n",
       "      <td>MYKE TOWERS</td>\n",
       "      <td>EXPERIMENTO</td>\n",
       "    </tr>\n",
       "    <tr>\n",
       "      <th>4</th>\n",
       "      <td>Rvssian, Rauw Alejandro &amp; Chris Brown</td>\n",
       "      <td>Nostálgico</td>\n",
       "    </tr>\n",
       "    <tr>\n",
       "      <th>...</th>\n",
       "      <td>...</td>\n",
       "      <td>...</td>\n",
       "    </tr>\n",
       "    <tr>\n",
       "      <th>95</th>\n",
       "      <td>KAROL G</td>\n",
       "      <td>SEJODIOTO</td>\n",
       "    </tr>\n",
       "    <tr>\n",
       "      <th>96</th>\n",
       "      <td>Olivia Rodrigo</td>\n",
       "      <td>Good 4 u</td>\n",
       "    </tr>\n",
       "    <tr>\n",
       "      <th>97</th>\n",
       "      <td>BIZARRAP / NICKY JAM</td>\n",
       "      <td>NICKY JAM: BZRP MUSIC SESSIONS, VOL. 41</td>\n",
       "    </tr>\n",
       "    <tr>\n",
       "      <th>98</th>\n",
       "      <td>Jhay Cortez, Skrillex</td>\n",
       "      <td>En Mi Cuarto</td>\n",
       "    </tr>\n",
       "    <tr>\n",
       "      <th>99</th>\n",
       "      <td>RAUW ALEJANDRO / MR. NAISGAI</td>\n",
       "      <td>2/CATORCE</td>\n",
       "    </tr>\n",
       "  </tbody>\n",
       "</table>\n",
       "<p>100 rows × 2 columns</p>\n",
       "</div>"
      ],
      "text/plain": [
       "                                   artist  \\\n",
       "0                C. Tangana, Nathy Peluso   \n",
       "1                          zzoilo, Aitana   \n",
       "2                     BIZARRAP / ANUEL AA   \n",
       "3                             MYKE TOWERS   \n",
       "4   Rvssian, Rauw Alejandro & Chris Brown   \n",
       "..                                    ...   \n",
       "95                                KAROL G   \n",
       "96                         Olivia Rodrigo   \n",
       "97                   BIZARRAP / NICKY JAM   \n",
       "98                  Jhay Cortez, Skrillex   \n",
       "99           RAUW ALEJANDRO / MR. NAISGAI   \n",
       "\n",
       "                                       song  \n",
       "0                                      Ateo  \n",
       "1                         Mon Amour (remix)  \n",
       "2     ANUEL AA: BZRP MUSIC SESSION: VOL. 46  \n",
       "3                               EXPERIMENTO  \n",
       "4                                Nostálgico  \n",
       "..                                      ...  \n",
       "95                                SEJODIOTO  \n",
       "96                                 Good 4 u  \n",
       "97  NICKY JAM: BZRP MUSIC SESSIONS, VOL. 41  \n",
       "98                             En Mi Cuarto  \n",
       "99                                2/CATORCE  \n",
       "\n",
       "[100 rows x 2 columns]"
      ]
     },
     "execution_count": 16,
     "metadata": {},
     "output_type": "execute_result"
    }
   ],
   "source": [
    "second_top = pd.DataFrame({\"artist\": artists1, \"song\": songs1})\n",
    "second_top"
   ]
  },
  {
   "cell_type": "code",
   "execution_count": 19,
   "id": "7509d0f9-766a-4da3-9a84-c244e1a418a3",
   "metadata": {},
   "outputs": [],
   "source": [
    "#top_100.to_excel('./files_for_lab/top_100.xlsx')\n",
    "#second_top.to_excel('./files_for_lab/second_top.xlsx')"
   ]
  },
  {
   "cell_type": "markdown",
   "id": "00fb4d69-f66e-49a1-93f9-f77bfb73a464",
   "metadata": {},
   "source": [
    "### Asking a song name"
   ]
  },
  {
   "cell_type": "code",
   "execution_count": 97,
   "id": "8a9fa143-30ed-479c-b63c-7814da307d83",
   "metadata": {},
   "outputs": [],
   "source": [
    "def recommending_song(song):\n",
    "    songs_to_recommend_top_100 = []\n",
    "    position_top_100 = []\n",
    "    songs_to_recommend_second_top = []\n",
    "    position_second_top = []\n",
    "    for i in range(100):\n",
    "        if song == top_100['song'][i]:\n",
    "            songs_to_recommend_top_100.append(top_100['song'][i])\n",
    "            position_top_100.append(i)\n",
    "        elif song == second_top['song'][i]:\n",
    "            songs_to_recommend_second_top.append(second_top['song'][i])\n",
    "            position_second_top.append(i)\n",
    "    if len(songs_to_recommend_top_100)> 0:\n",
    "        random_number = position_top_100[0]\n",
    "        while random_number == position_top_100[0]:\n",
    "            random_number = randint(0,99)\n",
    "        i_recommend = top_100['song'][random_number]\n",
    "        return print(\"Good choice! This song is now in the position number \" + str(position_top_100[0]+1) + \" of our first top from \" + top_100['artist'][position_top_100[0]] + \". Here we have another recommendation of this top 100 songs: \" + i_recommend + \" from \" + top_100['artist'][random_number])\n",
    "    elif len(songs_to_recommend_second_top)> 0:\n",
    "        random_number = position_second_top[0]\n",
    "        while random_number == position_second_top[0]:\n",
    "            random_number = randint(0,99)\n",
    "        i_recommend = second_top['song'][random_number]\n",
    "        return print(\"Good choice! This song is now in the position number \" + str(position_second_top[0]+1) + \" of our second top from \" + second_top['artist'][position_second_top[0]] + \". Here we have another recommendation of this top 100 songs: \" + i_recommend + \" from \" + second_top['artist'][random_number])\n",
    "    else:\n",
    "        print(\"Sorry, now we can't help you with that song, but if you want to try again with another one...\")\n",
    "        return 0"
   ]
  },
  {
   "cell_type": "code",
   "execution_count": 98,
   "id": "cd88c563-11d4-4079-875d-8e0a28f724d9",
   "metadata": {},
   "outputs": [],
   "source": [
    "def recommending_artist(artist):\n",
    "    songs_to_recommend_top_100 = []\n",
    "    position_top_100 = []\n",
    "    songs_to_recommend_second_top = []\n",
    "    position_second_top = []\n",
    "    for i in range(100):\n",
    "        text1 = top_100['artist'][i]\n",
    "        text2 = second_top['artist'][i]\n",
    "        pattern = artist\n",
    "        number_1 = re.findall(pattern, text1)\n",
    "        number_2 = re.findall(pattern, text2)\n",
    "        if len(number_1)> 0:\n",
    "            songs_to_recommend_top_100.append(top_100['song'][i])\n",
    "            position_top_100.append(i)\n",
    "            number_1.pop(0)\n",
    "        if len(number_2)> 0:\n",
    "            songs_to_recommend_second_top.append(second_top['song'][i])\n",
    "            position_second_top.append(i)\n",
    "            number_2.pop(0)\n",
    "    if len(songs_to_recommend_top_100)> 0:\n",
    "        print('Good choice! This artist has ' + str(len(songs_to_recommend_top_100)) + ' songs:')\n",
    "        for i in range(len(songs_to_recommend_top_100)):\n",
    "            print('-' + songs_to_recommend_top_100[i] + ' in position ' + str(position_top_100[i] + 1))\n",
    "        return \n",
    "    elif len(songs_to_recommend_second_top)> 0:\n",
    "        print('Good choice! This artist has ' + str(len(songs_to_recommend_second_top)) + ' songs:')\n",
    "        for i in range(len(songs_to_recommend_second_top)):\n",
    "            print('-' + songs_to_recommend_second_top[i] + ' in position ' + str(position_second_top[i] + 1))\n",
    "        return \n",
    "    else:\n",
    "        print(\"Sorry, now we can't help you with that artist, but if you want to try again with another one...\")\n",
    "        return 0"
   ]
  },
  {
   "cell_type": "code",
   "execution_count": 99,
   "id": "345a722b-2c65-4c75-b48c-327e763d7631",
   "metadata": {},
   "outputs": [],
   "source": [
    "def asking_song():\n",
    "    print(\"Which song do you want?\")\n",
    "    song_name = input()\n",
    "    value = recommending_song(song_name)\n",
    "    while value == 0:\n",
    "        print(\"Which new song do you want?\")\n",
    "        song_name = input()\n",
    "        value = recommending_song(song_name)\n",
    "    return"
   ]
  },
  {
   "cell_type": "code",
   "execution_count": 579,
   "id": "89da0aa5-5ad6-4898-b256-ddccee7b64b4",
   "metadata": {},
   "outputs": [],
   "source": [
    "def asking_artist():\n",
    "    print(\"Which artist do you want?\")\n",
    "    artist_name = input()\n",
    "    value = recommending_artist(artist_name)\n",
    "    while value == 0:\n",
    "        print(\"Which new artist do you want?\")\n",
    "        artist_name = input()\n",
    "        value = recommending_artist(artist_name)\n",
    "    return"
   ]
  },
  {
   "cell_type": "code",
   "execution_count": 565,
   "id": "553ee1e2-19cf-4e9e-b2aa-a8abdac3a7e9",
   "metadata": {},
   "outputs": [],
   "source": [
    "def asking():\n",
    "    print(\"If you want to search by song enter 1, and if you want to search by artist enter 2\")\n",
    "    search = input()\n",
    "    while (search != '1') & (search != '2'):\n",
    "        print(\"This isn't a valid value... Try again\")\n",
    "        print(\"If you want to search by song enter 1, and if you want to search by artist enter 2\")\n",
    "        search = input()\n",
    "    if search == '1':\n",
    "        return asking_song()\n",
    "    elif search == '2':\n",
    "        return asking_artist()"
   ]
  },
  {
   "cell_type": "code",
   "execution_count": 102,
   "id": "83297d41-e8fd-47e3-b2f7-71b7bba3323c",
   "metadata": {},
   "outputs": [
    {
     "name": "stdout",
     "output_type": "stream",
     "text": [
      "If you want to search by song enter 1, and if you want to search by artist enter 2\n"
     ]
    },
    {
     "name": "stdin",
     "output_type": "stream",
     "text": [
      " sals\n"
     ]
    },
    {
     "name": "stdout",
     "output_type": "stream",
     "text": [
      "<class 'str'>\n",
      "This isn't a valid value... Try again\n",
      "If you want to search by song enter 1, and if you want to search by artist enter 2\n"
     ]
    },
    {
     "name": "stdin",
     "output_type": "stream",
     "text": [
      " 3\n"
     ]
    },
    {
     "name": "stdout",
     "output_type": "stream",
     "text": [
      "<class 'str'>\n",
      "This isn't a valid value... Try again\n",
      "If you want to search by song enter 1, and if you want to search by artist enter 2\n"
     ]
    },
    {
     "name": "stdin",
     "output_type": "stream",
     "text": [
      " 2\n"
     ]
    },
    {
     "name": "stdout",
     "output_type": "stream",
     "text": [
      "Which artist do you want?\n"
     ]
    },
    {
     "name": "stdin",
     "output_type": "stream",
     "text": [
      " Tangana\n"
     ]
    },
    {
     "name": "stdout",
     "output_type": "stream",
     "text": [
      "Good choice! This artist has 2 songs:\n",
      "-Ateo in position 1\n",
      "-Tú Me Dejaste De Querer in position 53\n"
     ]
    }
   ],
   "source": [
    "asking()"
   ]
  },
  {
   "cell_type": "markdown",
   "id": "d73f69d3-8dd1-4111-b892-0a45c23226d0",
   "metadata": {},
   "source": [
    "### Opening Spotipy"
   ]
  },
  {
   "cell_type": "code",
   "execution_count": 367,
   "id": "3d75a5c2-b706-4cee-970c-fe7aede45c6f",
   "metadata": {},
   "outputs": [],
   "source": [
    "secrets_file = open(\"secrets.txt\",\"r\")"
   ]
  },
  {
   "cell_type": "code",
   "execution_count": 368,
   "id": "9725134d-70be-4286-8484-21b44a28beb0",
   "metadata": {},
   "outputs": [],
   "source": [
    "string = secrets_file.read()"
   ]
  },
  {
   "cell_type": "code",
   "execution_count": 369,
   "id": "255f1c70-2136-4572-b5d7-59c9ef38e984",
   "metadata": {},
   "outputs": [],
   "source": [
    "#string.split('\\n')"
   ]
  },
  {
   "cell_type": "code",
   "execution_count": 370,
   "id": "3cadd149-da42-4939-a7c7-7210d19c170f",
   "metadata": {},
   "outputs": [],
   "source": [
    "secrets_dict={}\n",
    "for line in string.split('\\n'):\n",
    "    if len(line) > 0:\n",
    "        secrets_dict[line.split(':')[0]]=line.split(':')[1]"
   ]
  },
  {
   "cell_type": "code",
   "execution_count": 371,
   "id": "751983c8-efc5-49e9-ab48-939b33d51c41",
   "metadata": {},
   "outputs": [],
   "source": [
    "sp = spotipy.Spotify(auth_manager=SpotifyClientCredentials(client_id=secrets_dict['cid'],\n",
    "                                                           client_secret=secrets_dict['csecret']))"
   ]
  },
  {
   "cell_type": "markdown",
   "id": "9651b239-b608-4cd3-9b05-d525abba419e",
   "metadata": {},
   "source": [
    "### Obtaining different playlists"
   ]
  },
  {
   "cell_type": "code",
   "execution_count": null,
   "id": "64f3b5ae-7195-47ea-98a5-5e02fc36aa2c",
   "metadata": {},
   "outputs": [],
   "source": [
    "37i9dQZEVXbJwoKy8qKpHG\n",
    "37i9dQZEVXbMDoHDwVN2tF\n",
    "\n",
    "6ulnRbATULdUE2CDIjNLvP"
   ]
  },
  {
   "cell_type": "code",
   "execution_count": 109,
   "id": "8f252083-3126-4135-b15c-80eae5267822",
   "metadata": {},
   "outputs": [],
   "source": [
    "playlist = sp.user_playlist_tracks(\"spotify\", \"37i9dQZEVXbJwoKy8qKpHG\")"
   ]
  },
  {
   "cell_type": "code",
   "execution_count": 110,
   "id": "2907a9ff-80b1-4d59-bb23-574147cd399c",
   "metadata": {},
   "outputs": [
    {
     "data": {
      "text/plain": [
       "50"
      ]
     },
     "execution_count": 110,
     "metadata": {},
     "output_type": "execute_result"
    }
   ],
   "source": [
    "playlist[\"total\"] "
   ]
  },
  {
   "cell_type": "code",
   "execution_count": 117,
   "id": "7ede1c2a-24fc-4c97-8d96-739a5eed7593",
   "metadata": {},
   "outputs": [],
   "source": [
    "def get_name_artists_from_track(track):\n",
    "    return [(track[\"name\"],artist[\"name\"]) for artist in track[\"artists\"]]"
   ]
  },
  {
   "cell_type": "code",
   "execution_count": 115,
   "id": "42c2e84f-d1e0-4b5a-ae71-a46a86d487cb",
   "metadata": {},
   "outputs": [],
   "source": [
    "def flatten(input_list):\n",
    "    return [item for sublist in input_list for item in sublist]"
   ]
  },
  {
   "cell_type": "code",
   "execution_count": 111,
   "id": "e2e35157-2fe3-47d5-8151-f42b9bddaae3",
   "metadata": {},
   "outputs": [],
   "source": [
    "def get_name_artist_from_playlist_item(playlist_item):\n",
    "    return get_name_artists_from_track(playlist_item['track'])"
   ]
  },
  {
   "cell_type": "code",
   "execution_count": 133,
   "id": "91f50f93-db32-4301-9730-364bed55c120",
   "metadata": {},
   "outputs": [],
   "source": [
    "def get_name_artists_from_playlist(input_playlist):\n",
    "    return list(map(get_name_artist_from_playlist_item,input_playlist[\"items\"]))"
   ]
  },
  {
   "cell_type": "code",
   "execution_count": null,
   "id": "bbc71040-cb5d-45fe-8c98-130e837bc58e",
   "metadata": {},
   "outputs": [],
   "source": [
    "def get_name_artists_from_playlist(input_playlist):\n",
    "    return flatten(list(map(get_name_artist_from_playlist_item,input_playlist[\"items\"])))"
   ]
  },
  {
   "cell_type": "code",
   "execution_count": 118,
   "id": "00a3f9d8-70f5-40a8-953e-07a81ef191a8",
   "metadata": {
    "collapsed": true,
    "jupyter": {
     "outputs_hidden": true
    },
    "tags": []
   },
   "outputs": [
    {
     "data": {
      "text/plain": [
       "[('LA FAMA (with The Weeknd)', 'ROSALÍA'),\n",
       " ('LA FAMA (with The Weeknd)', 'The Weeknd'),\n",
       " ('Ateo', 'C. Tangana'),\n",
       " ('Ateo', 'Nathy Peluso'),\n",
       " ('Experimento', 'Myke Towers'),\n",
       " ('Mon Amour - Remix', 'zzoilo'),\n",
       " ('Mon Amour - Remix', 'Aitana'),\n",
       " ('Una Vaina Loca', 'Fuego'),\n",
       " ('Una Vaina Loca', 'Manuel Turizo'),\n",
       " ('Una Vaina Loca', 'Duki'),\n",
       " ('Anuel AA: Bzrp Music Sessions, Vol. 46', 'Bizarrap'),\n",
       " ('Anuel AA: Bzrp Music Sessions, Vol. 46', 'Anuel AA'),\n",
       " ('Nostálgico', 'Rvssian'),\n",
       " ('Nostálgico', 'Rauw Alejandro'),\n",
       " ('Nostálgico', 'Chris Brown'),\n",
       " ('Salimo de Noche', 'Tiago PZK'),\n",
       " ('Salimo de Noche', 'Trueno'),\n",
       " ('Ley Seca', 'Jhay Cortez'),\n",
       " ('Ley Seca', 'Anuel AA'),\n",
       " ('Dile (Homenaje)', 'Jhay Cortez'),\n",
       " ('Cúrame', 'Rauw Alejandro'),\n",
       " ('Tacones Rojos', 'Sebastian Yatra'),\n",
       " ('Todo De Ti', 'Rauw Alejandro'),\n",
       " ('Ptazeta: Bzrp Music Sessions, Vol. 45', 'Bizarrap'),\n",
       " ('Ptazeta: Bzrp Music Sessions, Vol. 45', 'Ptazeta'),\n",
       " ('El Incomprendido', 'Farruko'),\n",
       " ('El Incomprendido', 'Victor Cardenas'),\n",
       " ('El Incomprendido', 'Dj Adoni'),\n",
       " ('Dictadura', 'Anuel AA'),\n",
       " ('Volando - Remix', 'Mora'),\n",
       " ('Volando - Remix', 'Bad Bunny'),\n",
       " ('Volando - Remix', 'Sech'),\n",
       " ('Pepas', 'Farruko'),\n",
       " ('Volví', 'Aventura'),\n",
       " ('Volví', 'Bad Bunny'),\n",
       " ('Yonaguni', 'Bad Bunny'),\n",
       " ('Índigo', 'Camilo'),\n",
       " ('Índigo', 'Evaluna Montaner'),\n",
       " ('Cuando Ella Sale', 'Morad'),\n",
       " ('Colorín Colorado', 'Justin Quiles'),\n",
       " ('Habla Claro', 'Eladio Carrion'),\n",
       " ('Habla Claro', 'Morad'),\n",
       " ('Loco', 'Justin Quiles'),\n",
       " ('Loco', 'Chimbala'),\n",
       " ('Loco', 'Zion & Lennox'),\n",
       " ('INMORTALES', 'Funzo & Baby Loud'),\n",
       " ('FEEL ME??', 'Trueno'),\n",
       " ('Unfollow', 'Duki'),\n",
       " ('Unfollow', 'Justin Quiles'),\n",
       " ('Unfollow', 'Bizarrap'),\n",
       " ('La Historia', 'El Taiger'),\n",
       " ('La Historia', 'DJ Conds'),\n",
       " ('Lo Siento BB:/ (with Bad Bunny & Julieta Venegas)', 'Tainy'),\n",
       " ('Lo Siento BB:/ (with Bad Bunny & Julieta Venegas)', 'Bad Bunny'),\n",
       " ('Lo Siento BB:/ (with Bad Bunny & Julieta Venegas)', 'Julieta Venegas'),\n",
       " ('120', 'Bad Bunny'),\n",
       " ('Tiroteo - Remix', 'Marc Seguí'),\n",
       " ('Tiroteo - Remix', 'Rauw Alejandro'),\n",
       " ('Tiroteo - Remix', 'Pol Granch'),\n",
       " ('Sabe', 'Nicki Nicole'),\n",
       " ('Sabe', 'Rauw Alejandro'),\n",
       " ('Combo la L', 'Beny Jr'),\n",
       " ('Combo la L', 'El Guincho'),\n",
       " ('La Old Skul', 'Rauw Alejandro'),\n",
       " ('Sexo Virtual', 'Rauw Alejandro'),\n",
       " ('Libertad', 'Nil Moliner'),\n",
       " ('ALMAS GEMELAS', 'Myke Towers'),\n",
       " ('Veneno', 'Delaossa'),\n",
       " ('Veneno', 'KIDDO'),\n",
       " ('Veneno', 'J.Moods'),\n",
       " ('Búscate Otro', 'Atomic Otro Way'),\n",
       " ('Búscate Otro', 'Jc La Nevula'),\n",
       " ('Cold Heart - PNAU Remix', 'Elton John'),\n",
       " ('Cold Heart - PNAU Remix', 'Dua Lipa'),\n",
       " ('Cold Heart - PNAU Remix', 'PNAU'),\n",
       " ('Qué Más Pues?', 'J Balvin'),\n",
       " ('Qué Más Pues?', 'Maria Becerra'),\n",
       " ('Pareja Del Año', 'Sebastian Yatra'),\n",
       " ('Pareja Del Año', 'Myke Towers'),\n",
       " ('La Botella', 'Justin Quiles'),\n",
       " ('La Botella', 'Maluma'),\n",
       " ('STAY (with Justin Bieber)', 'The Kid LAROI'),\n",
       " ('STAY (with Justin Bieber)', 'Justin Bieber'),\n",
       " ('Diablita Remix', 'Fabbio'),\n",
       " ('Diablita Remix', 'Omar Montes'),\n",
       " ('Diablita Remix', 'Lennis Rodriguez'),\n",
       " ('Diablita Remix', 'Chus Santana'),\n",
       " ('Ella', 'El Bobe'),\n",
       " ('Ella', 'alPeDue'),\n",
       " ('Beba Qué Quieres Que Haga', 'Omar Montes'),\n",
       " ('Beba Qué Quieres Que Haga', 'JC el Diamante'),\n",
       " ('INDUSTRY BABY (feat. Jack Harlow)', 'Lil Nas X'),\n",
       " ('INDUSTRY BABY (feat. Jack Harlow)', 'Jack Harlow'),\n",
       " ('Easy On Me', 'Adele')]"
      ]
     },
     "execution_count": 118,
     "metadata": {},
     "output_type": "execute_result"
    }
   ],
   "source": [
    "get_name_artists_from_playlist(playlist)"
   ]
  },
  {
   "cell_type": "markdown",
   "id": "a4842e1b-3724-49a6-8172-d7108bdfb1c3",
   "metadata": {},
   "source": [
    "#### Using a big playlist to obtain a lot of songs by different artists"
   ]
  },
  {
   "cell_type": "code",
   "execution_count": 122,
   "id": "1692849b-ddf4-4154-84b2-2bca64cbb635",
   "metadata": {},
   "outputs": [],
   "source": [
    "playlist = sp.user_playlist_tracks(\"spotify\", \"6ulnRbATULdUE2CDIjNLvP\")"
   ]
  },
  {
   "cell_type": "code",
   "execution_count": 123,
   "id": "5b1b24b9-b3dc-452e-8b3c-f496002c441c",
   "metadata": {},
   "outputs": [
    {
     "data": {
      "text/plain": [
       "805"
      ]
     },
     "execution_count": 123,
     "metadata": {},
     "output_type": "execute_result"
    }
   ],
   "source": [
    "playlist[\"total\"] "
   ]
  },
  {
   "cell_type": "code",
   "execution_count": 124,
   "id": "8ddedcbb-d2f2-4b1e-8e72-2405cb926600",
   "metadata": {},
   "outputs": [
    {
     "data": {
      "text/plain": [
       "100"
      ]
     },
     "execution_count": 124,
     "metadata": {},
     "output_type": "execute_result"
    }
   ],
   "source": [
    "# It is limited to 100 tracks, we will have to fix it:\n",
    "len(playlist[\"items\"])"
   ]
  },
  {
   "cell_type": "code",
   "execution_count": 125,
   "id": "34d82544-a540-446e-8ef3-4a6ae15ba475",
   "metadata": {},
   "outputs": [
    {
     "data": {
      "text/plain": [
       "'https://api.spotify.com/v1/playlists/6ulnRbATULdUE2CDIjNLvP/tracks?offset=100&limit=100&additional_types=track'"
      ]
     },
     "execution_count": 125,
     "metadata": {},
     "output_type": "execute_result"
    }
   ],
   "source": [
    "playlist['next']"
   ]
  },
  {
   "cell_type": "code",
   "execution_count": null,
   "id": "4fd99700-9b30-4253-a8bc-6228bedbc5d8",
   "metadata": {
    "tags": []
   },
   "outputs": [],
   "source": [
    "#sp.next(playlist)"
   ]
  },
  {
   "cell_type": "code",
   "execution_count": 136,
   "id": "90c87ed4-b609-4fa8-93e4-5cb121ff0144",
   "metadata": {},
   "outputs": [],
   "source": [
    "def get_playlist_tracks(playlist_id):\n",
    "    results = sp.user_playlist_tracks(\"spotify\",playlist_id)\n",
    "    tracks = results['items']\n",
    "    while results['next']!=None:\n",
    "        results = sp.next(results)\n",
    "        tracks = tracks + results['items']\n",
    "        sleep(randint(1,3))\n",
    "    return tracks"
   ]
  },
  {
   "cell_type": "code",
   "execution_count": 137,
   "id": "d426a40d-8038-4d33-aa9c-052a2f34e316",
   "metadata": {},
   "outputs": [
    {
     "data": {
      "text/plain": [
       "805"
      ]
     },
     "execution_count": 137,
     "metadata": {},
     "output_type": "execute_result"
    }
   ],
   "source": [
    "all_tracks = get_playlist_tracks(\"6ulnRbATULdUE2CDIjNLvP\")\n",
    "len(all_tracks)"
   ]
  },
  {
   "cell_type": "code",
   "execution_count": 152,
   "id": "adacd919-4ff5-4361-ad53-19a390fcdfb6",
   "metadata": {},
   "outputs": [],
   "source": [
    "artist_and_track = [[],[]]\n",
    "for i in range(len(all_tracks)):\n",
    "    name_artists = ''\n",
    "    for j in range(len(all_tracks[i][\"track\"][\"artists\"])):\n",
    "        name_artists = name_artists + all_tracks[i][\"track\"][\"artists\"][j][\"name\"]\n",
    "    artist_and_track[0].append(name_artists)\n",
    "    artist_and_track[1].append(all_tracks[i][\"track\"][\"name\"])"
   ]
  },
  {
   "cell_type": "code",
   "execution_count": 156,
   "id": "d2138e96-4458-4614-ac59-2d29613a3518",
   "metadata": {},
   "outputs": [],
   "source": [
    "different_artists = []\n",
    "for i in range(len(all_tracks)):\n",
    "    if artist_and_track[0][i] not in different_artists:\n",
    "        different_artists = different_artists + [artist_and_track[0][i]]"
   ]
  },
  {
   "cell_type": "code",
   "execution_count": 158,
   "id": "3511e624-7120-46e6-a7ce-272a31500ac3",
   "metadata": {
    "tags": []
   },
   "outputs": [],
   "source": [
    "#different_artists"
   ]
  },
  {
   "cell_type": "code",
   "execution_count": 245,
   "id": "e9d4c93a-5723-481b-9d5a-d04955c1a4ce",
   "metadata": {},
   "outputs": [],
   "source": [
    "def obtaining_all_songs_from_all_artists(lista):\n",
    "    list_with_songs = [[],[]]\n",
    "    i = 0\n",
    "    for artist in lista:\n",
    "        results = sp.search(q=artist, limit=50)\n",
    "        tracks = results['tracks']['items']\n",
    "        stop = 0\n",
    "        while (results['tracks']['next']!=None) and (stop != 1):\n",
    "            try:\n",
    "                results = sp.next(results['tracks'])\n",
    "                tracks = tracks + results['tracks']['items']\n",
    "                sleep(randint(1,3))\n",
    "            except:\n",
    "                stop = 1\n",
    "        list_with_songs[0] = list_with_songs[0] + [artist]\n",
    "        list_with_songs[1] = list_with_songs[1] + [tracks]\n",
    "        #list_with_songs[0].append(artist)\n",
    "        #list_with_songs[1].append(tracks)\n",
    "        i += 1\n",
    "    return list_with_songs"
   ]
  },
  {
   "cell_type": "code",
   "execution_count": 246,
   "id": "5ec9123f-0992-469f-bc92-443dc1e6eccf",
   "metadata": {},
   "outputs": [
    {
     "name": "stderr",
     "output_type": "stream",
     "text": [
      "ERROR:spotipy.client:HTTP Error for GET to https://api.spotify.com/v1/search?query=The+Animals&type=track&offset=1000&limit=50 with Params: {} returned 404 due to Not found.\n",
      "ERROR:spotipy.client:HTTP Error for GET to https://api.spotify.com/v1/search?query=Gorillaz&type=track&offset=1000&limit=50 with Params: {} returned 404 due to Not found.\n",
      "ERROR:spotipy.client:HTTP Error for GET to https://api.spotify.com/v1/search?query=DEVO&type=track&offset=1000&limit=50 with Params: {} returned 404 due to Not found.\n",
      "ERROR:spotipy.client:HTTP Error for GET to https://api.spotify.com/v1/search?query=The+Black+Keys&type=track&offset=1000&limit=50 with Params: {} returned 404 due to Not found.\n",
      "ERROR:spotipy.client:HTTP Error for GET to https://api.spotify.com/v1/search?query=Cake&type=track&offset=1000&limit=50 with Params: {} returned 404 due to Not found.\n",
      "ERROR:spotipy.client:HTTP Error for GET to https://api.spotify.com/v1/search?query=Franz+Ferdinand&type=track&offset=1000&limit=50 with Params: {} returned 404 due to Not found.\n",
      "ERROR:spotipy.client:HTTP Error for GET to https://api.spotify.com/v1/search?query=Spoon&type=track&offset=1000&limit=50 with Params: {} returned 404 due to Not found.\n",
      "ERROR:spotipy.client:HTTP Error for GET to https://api.spotify.com/v1/search?query=Green+Day&type=track&offset=1000&limit=50 with Params: {} returned 404 due to Not found.\n",
      "ERROR:spotipy.client:HTTP Error for GET to https://api.spotify.com/v1/search?query=Electric+Six&type=track&offset=1000&limit=50 with Params: {} returned 404 due to Not found.\n",
      "ERROR:spotipy.client:HTTP Error for GET to https://api.spotify.com/v1/search?query=Muse&type=track&offset=1000&limit=50 with Params: {} returned 404 due to Not found.\n",
      "ERROR:spotipy.client:HTTP Error for GET to https://api.spotify.com/v1/search?query=Bad+Suns&type=track&offset=1000&limit=50 with Params: {} returned 404 due to Not found.\n",
      "ERROR:spotipy.client:HTTP Error for GET to https://api.spotify.com/v1/search?query=Arcade+Fire&type=track&offset=1000&limit=50 with Params: {} returned 404 due to Not found.\n",
      "ERROR:spotipy.client:HTTP Error for GET to https://api.spotify.com/v1/search?query=Radiohead&type=track&offset=1000&limit=50 with Params: {} returned 404 due to Not found.\n",
      "ERROR:spotipy.client:HTTP Error for GET to https://api.spotify.com/v1/search?query=OK+Go&type=track&offset=1000&limit=50 with Params: {} returned 404 due to Not found.\n",
      "ERROR:spotipy.client:HTTP Error for GET to https://api.spotify.com/v1/search?query=Airways&type=track&offset=1000&limit=50 with Params: {} returned 404 due to Not found.\n",
      "ERROR:spotipy.client:HTTP Error for GET to https://api.spotify.com/v1/search?query=Simple+Kid&type=track&offset=1000&limit=50 with Params: {} returned 404 due to Not found.\n",
      "ERROR:spotipy.client:HTTP Error for GET to https://api.spotify.com/v1/search?query=Pixies&type=track&offset=1000&limit=50 with Params: {} returned 404 due to Not found.\n",
      "ERROR:spotipy.client:HTTP Error for GET to https://api.spotify.com/v1/search?query=Foo+Fighters&type=track&offset=1000&limit=50 with Params: {} returned 404 due to Not found.\n",
      "ERROR:spotipy.client:HTTP Error for GET to https://api.spotify.com/v1/search?query=Rancid&type=track&offset=1000&limit=50 with Params: {} returned 404 due to Not found.\n",
      "ERROR:spotipy.client:HTTP Error for GET to https://api.spotify.com/v1/search?query=Bloc+Party&type=track&offset=1000&limit=50 with Params: {} returned 404 due to Not found.\n",
      "ERROR:spotipy.client:HTTP Error for GET to https://api.spotify.com/v1/search?query=Soft+Cell&type=track&offset=1000&limit=50 with Params: {} returned 404 due to Not found.\n",
      "ERROR:spotipy.client:HTTP Error for GET to https://api.spotify.com/v1/search?query=The+Clash&type=track&offset=1000&limit=50 with Params: {} returned 404 due to Not found.\n",
      "ERROR:spotipy.client:HTTP Error for GET to https://api.spotify.com/v1/search?query=The+Rolling+Stones&type=track&offset=1000&limit=50 with Params: {} returned 404 due to Not found.\n",
      "ERROR:spotipy.client:HTTP Error for GET to https://api.spotify.com/v1/search?query=Creedence+Clearwater+Revival&type=track&offset=1000&limit=50 with Params: {} returned 404 due to Not found.\n",
      "ERROR:spotipy.client:HTTP Error for GET to https://api.spotify.com/v1/search?query=Justice&type=track&offset=1000&limit=50 with Params: {} returned 404 due to Not found.\n",
      "ERROR:spotipy.client:HTTP Error for GET to https://api.spotify.com/v1/search?query=Talking+Heads&type=track&offset=1000&limit=50 with Params: {} returned 404 due to Not found.\n",
      "ERROR:spotipy.client:HTTP Error for GET to https://api.spotify.com/v1/search?query=Eagles&type=track&offset=1000&limit=50 with Params: {} returned 404 due to Not found.\n",
      "ERROR:spotipy.client:HTTP Error for GET to https://api.spotify.com/v1/search?query=Yes&type=track&offset=1000&limit=50 with Params: {} returned 404 due to Not found.\n",
      "ERROR:spotipy.client:HTTP Error for GET to https://api.spotify.com/v1/search?query=AC%2FDC&type=track&offset=1000&limit=50 with Params: {} returned 404 due to Not found.\n",
      "ERROR:spotipy.client:HTTP Error for GET to https://api.spotify.com/v1/search?query=Brooklyn&type=track&offset=1000&limit=50 with Params: {} returned 404 due to Not found.\n",
      "ERROR:spotipy.client:HTTP Error for GET to https://api.spotify.com/v1/search?query=Queen&type=track&offset=1000&limit=50 with Params: {} returned 404 due to Not found.\n",
      "ERROR:spotipy.client:HTTP Error for GET to https://api.spotify.com/v1/search?query=Michael+Jackson&type=track&offset=1000&limit=50 with Params: {} returned 404 due to Not found.\n",
      "ERROR:spotipy.client:HTTP Error for GET to https://api.spotify.com/v1/search?query=Enigma&type=track&offset=1000&limit=50 with Params: {} returned 404 due to Not found.\n",
      "ERROR:spotipy.client:HTTP Error for GET to https://api.spotify.com/v1/search?query=Beck&type=track&offset=1000&limit=50 with Params: {} returned 404 due to Not found.\n",
      "ERROR:spotipy.client:HTTP Error for GET to https://api.spotify.com/v1/search?query=of+Montreal&type=track&offset=1000&limit=50 with Params: {} returned 404 due to Not found.\n",
      "ERROR:spotipy.client:HTTP Error for GET to https://api.spotify.com/v1/search?query=Metallica&type=track&offset=1000&limit=50 with Params: {} returned 404 due to Not found.\n",
      "ERROR:spotipy.client:HTTP Error for GET to https://api.spotify.com/v1/search?query=Depeche+Mode&type=track&offset=1000&limit=50 with Params: {} returned 404 due to Not found.\n",
      "ERROR:spotipy.client:HTTP Error for GET to https://api.spotify.com/v1/search?query=David+Bowie&type=track&offset=1000&limit=50 with Params: {} returned 404 due to Not found.\n",
      "ERROR:spotipy.client:HTTP Error for GET to https://api.spotify.com/v1/search?query=Led+Zeppelin&type=track&offset=1000&limit=50 with Params: {} returned 404 due to Not found.\n",
      "ERROR:spotipy.client:HTTP Error for GET to https://api.spotify.com/v1/search?query=Arctic+Monkeys&type=track&offset=1000&limit=50 with Params: {} returned 404 due to Not found.\n",
      "ERROR:spotipy.client:HTTP Error for GET to https://api.spotify.com/v1/search?query=The+Killers&type=track&offset=1000&limit=50 with Params: {} returned 404 due to Not found.\n",
      "ERROR:spotipy.client:HTTP Error for GET to https://api.spotify.com/v1/search?query=grandson&type=track&offset=1000&limit=50 with Params: {} returned 404 due to Not found.\n",
      "ERROR:spotipy.client:HTTP Error for GET to https://api.spotify.com/v1/search?query=All+Time+Low&type=track&offset=1000&limit=50 with Params: {} returned 404 due to Not found.\n",
      "ERROR:spotipy.client:HTTP Error for GET to https://api.spotify.com/v1/search?query=The+Replacements&type=track&offset=1000&limit=50 with Params: {} returned 404 due to Not found.\n",
      "ERROR:spotipy.client:HTTP Error for GET to https://api.spotify.com/v1/search?query=The+Damned&type=track&offset=1000&limit=50 with Params: {} returned 404 due to Not found.\n",
      "ERROR:spotipy.client:HTTP Error for GET to https://api.spotify.com/v1/search?query=Richard+Hell&type=track&offset=1000&limit=50 with Params: {} returned 404 due to Not found.\n",
      "ERROR:spotipy.client:HTTP Error for GET to https://api.spotify.com/v1/search?query=Broadside&type=track&offset=1000&limit=50 with Params: {} returned 404 due to Not found.\n",
      "ERROR:spotipy.client:HTTP Error for GET to https://api.spotify.com/v1/search?query=Faith+No+More&type=track&offset=1000&limit=50 with Params: {} returned 404 due to Not found.\n",
      "ERROR:spotipy.client:HTTP Error for GET to https://api.spotify.com/v1/search?query=The+Police&type=track&offset=1000&limit=50 with Params: {} returned 404 due to Not found.\n",
      "ERROR:spotipy.client:HTTP Error for GET to https://api.spotify.com/v1/search?query=Royal+Blood&type=track&offset=1000&limit=50 with Params: {} returned 404 due to Not found.\n",
      "ERROR:spotipy.client:HTTP Error for GET to https://api.spotify.com/v1/search?query=Black+Sabbath&type=track&offset=1000&limit=50 with Params: {} returned 404 due to Not found.\n",
      "ERROR:spotipy.client:HTTP Error for GET to https://api.spotify.com/v1/search?query=Pink+Floyd&type=track&offset=1000&limit=50 with Params: {} returned 404 due to Not found.\n",
      "ERROR:spotipy.client:HTTP Error for GET to https://api.spotify.com/v1/search?query=The+Hit+Men&type=track&offset=1000&limit=50 with Params: {} returned 404 due to Not found.\n",
      "ERROR:spotipy.client:HTTP Error for GET to https://api.spotify.com/v1/search?query=Red+Hot+Chili+Peppers&type=track&offset=1000&limit=50 with Params: {} returned 404 due to Not found.\n",
      "ERROR:spotipy.client:HTTP Error for GET to https://api.spotify.com/v1/search?query=The+Score&type=track&offset=1000&limit=50 with Params: {} returned 404 due to Not found.\n",
      "ERROR:spotipy.client:HTTP Error for GET to https://api.spotify.com/v1/search?query=Himalayas&type=track&offset=1000&limit=50 with Params: {} returned 404 due to Not found.\n",
      "ERROR:spotipy.client:HTTP Error for GET to https://api.spotify.com/v1/search?query=Wings&type=track&offset=1000&limit=50 with Params: {} returned 404 due to Not found.\n",
      "ERROR:spotipy.client:HTTP Error for GET to https://api.spotify.com/v1/search?query=KALEO&type=track&offset=1000&limit=50 with Params: {} returned 404 due to Not found.\n",
      "ERROR:spotipy.client:HTTP Error for GET to https://api.spotify.com/v1/search?query=Goldfinger&type=track&offset=1000&limit=50 with Params: {} returned 404 due to Not found.\n",
      "ERROR:spotipy.client:HTTP Error for GET to https://api.spotify.com/v1/search?query=Tears+For+Fears&type=track&offset=1000&limit=50 with Params: {} returned 404 due to Not found.\n",
      "ERROR:spotipy.client:HTTP Error for GET to https://api.spotify.com/v1/search?query=Bob+Dylan&type=track&offset=1000&limit=50 with Params: {} returned 404 due to Not found.\n",
      "ERROR:spotipy.client:HTTP Error for GET to https://api.spotify.com/v1/search?query=Jimi+Hendrix&type=track&offset=1000&limit=50 with Params: {} returned 404 due to Not found.\n",
      "ERROR:spotipy.client:HTTP Error for GET to https://api.spotify.com/v1/search?query=The+Beatles&type=track&offset=1000&limit=50 with Params: {} returned 404 due to Not found.\n",
      "ERROR:spotipy.client:HTTP Error for GET to https://api.spotify.com/v1/search?query=Duran+Duran&type=track&offset=1000&limit=50 with Params: {} returned 404 due to Not found.\n",
      "ERROR:spotipy.client:HTTP Error for GET to https://api.spotify.com/v1/search?query=The+Goo+Goo+Dolls&type=track&offset=1000&limit=50 with Params: {} returned 404 due to Not found.\n",
      "ERROR:spotipy.client:HTTP Error for GET to https://api.spotify.com/v1/search?query=Aerosmith&type=track&offset=1000&limit=50 with Params: {} returned 404 due to Not found.\n",
      "ERROR:spotipy.client:HTTP Error for GET to https://api.spotify.com/v1/search?query=The+Band&type=track&offset=1000&limit=50 with Params: {} returned 404 due to Not found.\n",
      "ERROR:spotipy.client:HTTP Error for GET to https://api.spotify.com/v1/search?query=George+Michael&type=track&offset=1000&limit=50 with Params: {} returned 404 due to Not found.\n",
      "ERROR:spotipy.client:HTTP Error for GET to https://api.spotify.com/v1/search?query=Thin+Lizzy&type=track&offset=1000&limit=50 with Params: {} returned 404 due to Not found.\n",
      "ERROR:spotipy.client:HTTP Error for GET to https://api.spotify.com/v1/search?query=The+Who&type=track&offset=1000&limit=50 with Params: {} returned 404 due to Not found.\n",
      "ERROR:spotipy.client:HTTP Error for GET to https://api.spotify.com/v1/search?query=GoldFish&type=track&offset=1000&limit=50 with Params: {} returned 404 due to Not found.\n",
      "ERROR:spotipy.client:HTTP Error for GET to https://api.spotify.com/v1/search?query=Canned+Heat&type=track&offset=1000&limit=50 with Params: {} returned 404 due to Not found.\n",
      "ERROR:spotipy.client:HTTP Error for GET to https://api.spotify.com/v1/search?query=Delta+Sleep&type=track&offset=1000&limit=50 with Params: {} returned 404 due to Not found.\n",
      "ERROR:spotipy.client:HTTP Error for GET to https://api.spotify.com/v1/search?query=The+Strokes&type=track&offset=1000&limit=50 with Params: {} returned 404 due to Not found.\n",
      "ERROR:spotipy.client:HTTP Error for GET to https://api.spotify.com/v1/search?query=Frank+Sinatra&type=track&offset=1000&limit=50 with Params: {} returned 404 due to Not found.\n",
      "ERROR:spotipy.client:HTTP Error for GET to https://api.spotify.com/v1/search?query=The+Faint&type=track&offset=1000&limit=50 with Params: {} returned 404 due to Not found.\n",
      "ERROR:spotipy.client:HTTP Error for GET to https://api.spotify.com/v1/search?query=Eels&type=track&offset=1000&limit=50 with Params: {} returned 404 due to Not found.\n",
      "ERROR:spotipy.client:HTTP Error for GET to https://api.spotify.com/v1/search?query=Interpol&type=track&offset=1000&limit=50 with Params: {} returned 404 due to Not found.\n",
      "ERROR:spotipy.client:HTTP Error for GET to https://api.spotify.com/v1/search?query=Mike+Patton&type=track&offset=1000&limit=50 with Params: {} returned 404 due to Not found.\n"
     ]
    }
   ],
   "source": [
    "final_list = obtaining_all_songs_from_all_artists(different_artists)"
   ]
  },
  {
   "cell_type": "code",
   "execution_count": 499,
   "id": "532ef315-924f-4bbc-b218-b55886a24ed2",
   "metadata": {},
   "outputs": [],
   "source": [
    "artists_for_dataframe = []\n",
    "songs_for_dataframe = []\n",
    "uris_for_project = []"
   ]
  },
  {
   "cell_type": "code",
   "execution_count": 500,
   "id": "6e219635-846f-43aa-b976-1a56b9f21d3f",
   "metadata": {},
   "outputs": [],
   "source": [
    "list_of_lists = [[], [], [], [], [], [], [], [], [], [], [], [], [], [], [], [], [], []]"
   ]
  },
  {
   "cell_type": "code",
   "execution_count": null,
   "id": "37a70179-86b1-44a7-8454-868ac8333684",
   "metadata": {},
   "outputs": [],
   "source": [
    "# I have been a lot of time trying to do it in different ways, but always finish the time connection, so i divided it into two different loops \n",
    "# and reduced the number of songs per artist with the j<200 on the first loop."
   ]
  },
  {
   "cell_type": "code",
   "execution_count": 501,
   "id": "ca9eb6d3-db20-4780-87c7-6750927d5da9",
   "metadata": {},
   "outputs": [],
   "source": [
    "for i in range(len(final_list[0])):\n",
    "    for j in range(len(final_list[1][i])):\n",
    "        if j<200:\n",
    "            artists_for_dataframe = artists_for_dataframe + [final_list[0][i]]\n",
    "            songs_for_dataframe = songs_for_dataframe + [final_list[1][i][j]['name']]\n",
    "            uris_for_project = uris_for_project + [final_list[1][i][j]['uri']]"
   ]
  },
  {
   "cell_type": "code",
   "execution_count": 502,
   "id": "4f92f4a3-5cfd-4975-8f0a-6fc725cc8760",
   "metadata": {},
   "outputs": [],
   "source": [
    "for i in range(len(uris_for_project)):\n",
    "    uriss = sp.audio_features(uris_for_project[i])\n",
    "    for l in range(len(list_of_lists)):\n",
    "        if uriss[0] is None:\n",
    "            list_of_lists[l] = list_of_lists[l] + [0]\n",
    "        else:\n",
    "            values = list(uriss[0].keys())   \n",
    "            list_of_lists[l] = list_of_lists[l] + [uriss[0][values[l]]] "
   ]
  },
  {
   "cell_type": "code",
   "execution_count": 515,
   "id": "f9df32bf-bff0-4f1a-9700-9bc937eb7b06",
   "metadata": {},
   "outputs": [],
   "source": [
    "final_dataframe = pd.DataFrame({'artist': artists_for_dataframe,\n",
    "                                'song' : songs_for_dataframe,\n",
    "                                'uris': list_of_lists[13],\n",
    "                                'danceability': list_of_lists[0],\n",
    "                                'energy': list_of_lists[1],\n",
    "                                'key': list_of_lists[2],\n",
    "                                'loudness': list_of_lists[3],\n",
    "                                'mode': list_of_lists[4],\n",
    "                                'speechiness': list_of_lists[5],\n",
    "                                'acousticness': list_of_lists[6],\n",
    "                                'instrumentalness': list_of_lists[7],\n",
    "                                'liveness': list_of_lists[8],\n",
    "                                'valence': list_of_lists[9],\n",
    "                                'tempo': list_of_lists[10],\n",
    "                                'types': list_of_lists[11],\n",
    "                                'ids': list_of_lists[12],\n",
    "                                'track_href': list_of_lists[14],\n",
    "                                'analysis_url': list_of_lists[15],\n",
    "                                'duration_ms': list_of_lists[16],\n",
    "                                'time_signature': list_of_lists[17]})"
   ]
  },
  {
   "cell_type": "code",
   "execution_count": 516,
   "id": "c2d39d39-2d39-4fdf-8789-a2776c34142e",
   "metadata": {},
   "outputs": [
    {
     "data": {
      "text/html": [
       "<div>\n",
       "<style scoped>\n",
       "    .dataframe tbody tr th:only-of-type {\n",
       "        vertical-align: middle;\n",
       "    }\n",
       "\n",
       "    .dataframe tbody tr th {\n",
       "        vertical-align: top;\n",
       "    }\n",
       "\n",
       "    .dataframe thead th {\n",
       "        text-align: right;\n",
       "    }\n",
       "</style>\n",
       "<table border=\"1\" class=\"dataframe\">\n",
       "  <thead>\n",
       "    <tr style=\"text-align: right;\">\n",
       "      <th></th>\n",
       "      <th>artist</th>\n",
       "      <th>song</th>\n",
       "      <th>uris</th>\n",
       "      <th>danceability</th>\n",
       "      <th>energy</th>\n",
       "      <th>key</th>\n",
       "      <th>loudness</th>\n",
       "      <th>mode</th>\n",
       "      <th>speechiness</th>\n",
       "      <th>acousticness</th>\n",
       "      <th>instrumentalness</th>\n",
       "      <th>liveness</th>\n",
       "      <th>valence</th>\n",
       "      <th>tempo</th>\n",
       "      <th>types</th>\n",
       "      <th>ids</th>\n",
       "      <th>track_href</th>\n",
       "      <th>analysis_url</th>\n",
       "      <th>duration_ms</th>\n",
       "      <th>time_signature</th>\n",
       "    </tr>\n",
       "  </thead>\n",
       "  <tbody>\n",
       "    <tr>\n",
       "      <th>0</th>\n",
       "      <td>The Animals</td>\n",
       "      <td>House Of The Rising Sun</td>\n",
       "      <td>spotify:track:7BY005dacJkbO6EPiOh2wb</td>\n",
       "      <td>0.295</td>\n",
       "      <td>0.584</td>\n",
       "      <td>9</td>\n",
       "      <td>-6.696</td>\n",
       "      <td>0</td>\n",
       "      <td>0.0345</td>\n",
       "      <td>0.000385</td>\n",
       "      <td>0.218000</td>\n",
       "      <td>0.0996</td>\n",
       "      <td>0.228</td>\n",
       "      <td>117.200</td>\n",
       "      <td>audio_features</td>\n",
       "      <td>7BY005dacJkbO6EPiOh2wb</td>\n",
       "      <td>https://api.spotify.com/v1/tracks/7BY005dacJkb...</td>\n",
       "      <td>https://api.spotify.com/v1/audio-analysis/7BY0...</td>\n",
       "      <td>271280</td>\n",
       "      <td>3</td>\n",
       "    </tr>\n",
       "    <tr>\n",
       "      <th>1</th>\n",
       "      <td>The Animals</td>\n",
       "      <td>It's My Life</td>\n",
       "      <td>spotify:track:7yGR8R1HgQJeW6s3KRuyGS</td>\n",
       "      <td>0.552</td>\n",
       "      <td>0.704</td>\n",
       "      <td>1</td>\n",
       "      <td>-4.798</td>\n",
       "      <td>1</td>\n",
       "      <td>0.0344</td>\n",
       "      <td>0.000393</td>\n",
       "      <td>0.000104</td>\n",
       "      <td>0.0993</td>\n",
       "      <td>0.677</td>\n",
       "      <td>122.850</td>\n",
       "      <td>audio_features</td>\n",
       "      <td>7yGR8R1HgQJeW6s3KRuyGS</td>\n",
       "      <td>https://api.spotify.com/v1/tracks/7yGR8R1HgQJe...</td>\n",
       "      <td>https://api.spotify.com/v1/audio-analysis/7yGR...</td>\n",
       "      <td>187613</td>\n",
       "      <td>4</td>\n",
       "    </tr>\n",
       "    <tr>\n",
       "      <th>2</th>\n",
       "      <td>The Animals</td>\n",
       "      <td>The Other Side Of Paradise</td>\n",
       "      <td>spotify:track:0rRjGruFonCGOt0S5zAJNQ</td>\n",
       "      <td>0.689</td>\n",
       "      <td>0.338</td>\n",
       "      <td>11</td>\n",
       "      <td>-7.634</td>\n",
       "      <td>0</td>\n",
       "      <td>0.0629</td>\n",
       "      <td>0.349000</td>\n",
       "      <td>0.000057</td>\n",
       "      <td>0.0649</td>\n",
       "      <td>0.568</td>\n",
       "      <td>128.012</td>\n",
       "      <td>audio_features</td>\n",
       "      <td>0rRjGruFonCGOt0S5zAJNQ</td>\n",
       "      <td>https://api.spotify.com/v1/tracks/0rRjGruFonCG...</td>\n",
       "      <td>https://api.spotify.com/v1/audio-analysis/0rRj...</td>\n",
       "      <td>320654</td>\n",
       "      <td>4</td>\n",
       "    </tr>\n",
       "    <tr>\n",
       "      <th>3</th>\n",
       "      <td>The Animals</td>\n",
       "      <td>When I Was Young</td>\n",
       "      <td>spotify:track:5khS7MQTgrRefNzFUflm93</td>\n",
       "      <td>0.420</td>\n",
       "      <td>0.702</td>\n",
       "      <td>1</td>\n",
       "      <td>-13.821</td>\n",
       "      <td>1</td>\n",
       "      <td>0.0491</td>\n",
       "      <td>0.020300</td>\n",
       "      <td>0.000206</td>\n",
       "      <td>0.9660</td>\n",
       "      <td>0.508</td>\n",
       "      <td>114.903</td>\n",
       "      <td>audio_features</td>\n",
       "      <td>5khS7MQTgrRefNzFUflm93</td>\n",
       "      <td>https://api.spotify.com/v1/tracks/5khS7MQTgrRe...</td>\n",
       "      <td>https://api.spotify.com/v1/audio-analysis/5khS...</td>\n",
       "      <td>312133</td>\n",
       "      <td>4</td>\n",
       "    </tr>\n",
       "    <tr>\n",
       "      <th>4</th>\n",
       "      <td>The Animals</td>\n",
       "      <td>House Of The Rising Sun</td>\n",
       "      <td>spotify:track:61Q9oJNd9hJQFhSDh6Qlap</td>\n",
       "      <td>0.315</td>\n",
       "      <td>0.534</td>\n",
       "      <td>9</td>\n",
       "      <td>-7.552</td>\n",
       "      <td>0</td>\n",
       "      <td>0.0310</td>\n",
       "      <td>0.000825</td>\n",
       "      <td>0.108000</td>\n",
       "      <td>0.1010</td>\n",
       "      <td>0.283</td>\n",
       "      <td>116.891</td>\n",
       "      <td>audio_features</td>\n",
       "      <td>61Q9oJNd9hJQFhSDh6Qlap</td>\n",
       "      <td>https://api.spotify.com/v1/tracks/61Q9oJNd9hJQ...</td>\n",
       "      <td>https://api.spotify.com/v1/audio-analysis/61Q9...</td>\n",
       "      <td>269720</td>\n",
       "      <td>3</td>\n",
       "    </tr>\n",
       "    <tr>\n",
       "      <th>...</th>\n",
       "      <td>...</td>\n",
       "      <td>...</td>\n",
       "      <td>...</td>\n",
       "      <td>...</td>\n",
       "      <td>...</td>\n",
       "      <td>...</td>\n",
       "      <td>...</td>\n",
       "      <td>...</td>\n",
       "      <td>...</td>\n",
       "      <td>...</td>\n",
       "      <td>...</td>\n",
       "      <td>...</td>\n",
       "      <td>...</td>\n",
       "      <td>...</td>\n",
       "      <td>...</td>\n",
       "      <td>...</td>\n",
       "      <td>...</td>\n",
       "      <td>...</td>\n",
       "      <td>...</td>\n",
       "      <td>...</td>\n",
       "    </tr>\n",
       "    <tr>\n",
       "      <th>31914</th>\n",
       "      <td>Brad Sucks</td>\n",
       "      <td>Better off in Me</td>\n",
       "      <td>spotify:track:2Zi4o5xCAFBieVEMuCDiAd</td>\n",
       "      <td>0.616</td>\n",
       "      <td>0.694</td>\n",
       "      <td>7</td>\n",
       "      <td>-11.264</td>\n",
       "      <td>1</td>\n",
       "      <td>0.0672</td>\n",
       "      <td>0.044500</td>\n",
       "      <td>0.281000</td>\n",
       "      <td>0.0972</td>\n",
       "      <td>0.208</td>\n",
       "      <td>115.469</td>\n",
       "      <td>audio_features</td>\n",
       "      <td>2Zi4o5xCAFBieVEMuCDiAd</td>\n",
       "      <td>https://api.spotify.com/v1/tracks/2Zi4o5xCAFBi...</td>\n",
       "      <td>https://api.spotify.com/v1/audio-analysis/2Zi4...</td>\n",
       "      <td>405719</td>\n",
       "      <td>4</td>\n",
       "    </tr>\n",
       "    <tr>\n",
       "      <th>31915</th>\n",
       "      <td>Brad Sucks</td>\n",
       "      <td>So Much Time (I'm Out Of It) - Peter 'Crash' K...</td>\n",
       "      <td>spotify:track:3Jkq5FTaZccp5bWIz5FcpD</td>\n",
       "      <td>0.783</td>\n",
       "      <td>0.806</td>\n",
       "      <td>4</td>\n",
       "      <td>-8.365</td>\n",
       "      <td>1</td>\n",
       "      <td>0.0465</td>\n",
       "      <td>0.588000</td>\n",
       "      <td>0.950000</td>\n",
       "      <td>0.0921</td>\n",
       "      <td>0.655</td>\n",
       "      <td>126.021</td>\n",
       "      <td>audio_features</td>\n",
       "      <td>3Jkq5FTaZccp5bWIz5FcpD</td>\n",
       "      <td>https://api.spotify.com/v1/tracks/3Jkq5FTaZccp...</td>\n",
       "      <td>https://api.spotify.com/v1/audio-analysis/3Jkq...</td>\n",
       "      <td>533333</td>\n",
       "      <td>4</td>\n",
       "    </tr>\n",
       "    <tr>\n",
       "      <th>31916</th>\n",
       "      <td>Brad Sucks</td>\n",
       "      <td>Better off in Me (Calibre Remix)</td>\n",
       "      <td>spotify:track:6xsbOYd05WwKS8E0C0qti6</td>\n",
       "      <td>0.498</td>\n",
       "      <td>0.850</td>\n",
       "      <td>4</td>\n",
       "      <td>-7.547</td>\n",
       "      <td>0</td>\n",
       "      <td>0.0537</td>\n",
       "      <td>0.000764</td>\n",
       "      <td>0.810000</td>\n",
       "      <td>0.2020</td>\n",
       "      <td>0.269</td>\n",
       "      <td>105.047</td>\n",
       "      <td>audio_features</td>\n",
       "      <td>6xsbOYd05WwKS8E0C0qti6</td>\n",
       "      <td>https://api.spotify.com/v1/tracks/6xsbOYd05WwK...</td>\n",
       "      <td>https://api.spotify.com/v1/audio-analysis/6xsb...</td>\n",
       "      <td>389914</td>\n",
       "      <td>3</td>\n",
       "    </tr>\n",
       "    <tr>\n",
       "      <th>31917</th>\n",
       "      <td>Brad Sucks</td>\n",
       "      <td>Come Back (Remix)</td>\n",
       "      <td>spotify:track:5aVOsOzhXpR5lDSEw5IMqR</td>\n",
       "      <td>0.669</td>\n",
       "      <td>0.718</td>\n",
       "      <td>7</td>\n",
       "      <td>-9.195</td>\n",
       "      <td>1</td>\n",
       "      <td>0.0366</td>\n",
       "      <td>0.015700</td>\n",
       "      <td>0.458000</td>\n",
       "      <td>0.1300</td>\n",
       "      <td>0.575</td>\n",
       "      <td>122.937</td>\n",
       "      <td>audio_features</td>\n",
       "      <td>5aVOsOzhXpR5lDSEw5IMqR</td>\n",
       "      <td>https://api.spotify.com/v1/tracks/5aVOsOzhXpR5...</td>\n",
       "      <td>https://api.spotify.com/v1/audio-analysis/5aVO...</td>\n",
       "      <td>198948</td>\n",
       "      <td>4</td>\n",
       "    </tr>\n",
       "    <tr>\n",
       "      <th>31918</th>\n",
       "      <td>Brad Sucks</td>\n",
       "      <td>Brace Brace - Subb-An Remix</td>\n",
       "      <td>spotify:track:7A2sJipVevYIaZ62SacX4l</td>\n",
       "      <td>0.890</td>\n",
       "      <td>0.726</td>\n",
       "      <td>11</td>\n",
       "      <td>-11.133</td>\n",
       "      <td>0</td>\n",
       "      <td>0.0468</td>\n",
       "      <td>0.000049</td>\n",
       "      <td>0.894000</td>\n",
       "      <td>0.0839</td>\n",
       "      <td>0.753</td>\n",
       "      <td>124.008</td>\n",
       "      <td>audio_features</td>\n",
       "      <td>7A2sJipVevYIaZ62SacX4l</td>\n",
       "      <td>https://api.spotify.com/v1/tracks/7A2sJipVevYI...</td>\n",
       "      <td>https://api.spotify.com/v1/audio-analysis/7A2s...</td>\n",
       "      <td>483853</td>\n",
       "      <td>4</td>\n",
       "    </tr>\n",
       "  </tbody>\n",
       "</table>\n",
       "<p>31919 rows × 20 columns</p>\n",
       "</div>"
      ],
      "text/plain": [
       "            artist                                               song  \\\n",
       "0      The Animals                            House Of The Rising Sun   \n",
       "1      The Animals                                       It's My Life   \n",
       "2      The Animals                         The Other Side Of Paradise   \n",
       "3      The Animals                                   When I Was Young   \n",
       "4      The Animals                            House Of The Rising Sun   \n",
       "...            ...                                                ...   \n",
       "31914   Brad Sucks                                   Better off in Me   \n",
       "31915   Brad Sucks  So Much Time (I'm Out Of It) - Peter 'Crash' K...   \n",
       "31916   Brad Sucks                   Better off in Me (Calibre Remix)   \n",
       "31917   Brad Sucks                                  Come Back (Remix)   \n",
       "31918   Brad Sucks                        Brace Brace - Subb-An Remix   \n",
       "\n",
       "                                       uris  danceability  energy  key  \\\n",
       "0      spotify:track:7BY005dacJkbO6EPiOh2wb         0.295   0.584    9   \n",
       "1      spotify:track:7yGR8R1HgQJeW6s3KRuyGS         0.552   0.704    1   \n",
       "2      spotify:track:0rRjGruFonCGOt0S5zAJNQ         0.689   0.338   11   \n",
       "3      spotify:track:5khS7MQTgrRefNzFUflm93         0.420   0.702    1   \n",
       "4      spotify:track:61Q9oJNd9hJQFhSDh6Qlap         0.315   0.534    9   \n",
       "...                                     ...           ...     ...  ...   \n",
       "31914  spotify:track:2Zi4o5xCAFBieVEMuCDiAd         0.616   0.694    7   \n",
       "31915  spotify:track:3Jkq5FTaZccp5bWIz5FcpD         0.783   0.806    4   \n",
       "31916  spotify:track:6xsbOYd05WwKS8E0C0qti6         0.498   0.850    4   \n",
       "31917  spotify:track:5aVOsOzhXpR5lDSEw5IMqR         0.669   0.718    7   \n",
       "31918  spotify:track:7A2sJipVevYIaZ62SacX4l         0.890   0.726   11   \n",
       "\n",
       "       loudness  mode  speechiness  acousticness  instrumentalness  liveness  \\\n",
       "0        -6.696     0       0.0345      0.000385          0.218000    0.0996   \n",
       "1        -4.798     1       0.0344      0.000393          0.000104    0.0993   \n",
       "2        -7.634     0       0.0629      0.349000          0.000057    0.0649   \n",
       "3       -13.821     1       0.0491      0.020300          0.000206    0.9660   \n",
       "4        -7.552     0       0.0310      0.000825          0.108000    0.1010   \n",
       "...         ...   ...          ...           ...               ...       ...   \n",
       "31914   -11.264     1       0.0672      0.044500          0.281000    0.0972   \n",
       "31915    -8.365     1       0.0465      0.588000          0.950000    0.0921   \n",
       "31916    -7.547     0       0.0537      0.000764          0.810000    0.2020   \n",
       "31917    -9.195     1       0.0366      0.015700          0.458000    0.1300   \n",
       "31918   -11.133     0       0.0468      0.000049          0.894000    0.0839   \n",
       "\n",
       "       valence    tempo           types                     ids  \\\n",
       "0        0.228  117.200  audio_features  7BY005dacJkbO6EPiOh2wb   \n",
       "1        0.677  122.850  audio_features  7yGR8R1HgQJeW6s3KRuyGS   \n",
       "2        0.568  128.012  audio_features  0rRjGruFonCGOt0S5zAJNQ   \n",
       "3        0.508  114.903  audio_features  5khS7MQTgrRefNzFUflm93   \n",
       "4        0.283  116.891  audio_features  61Q9oJNd9hJQFhSDh6Qlap   \n",
       "...        ...      ...             ...                     ...   \n",
       "31914    0.208  115.469  audio_features  2Zi4o5xCAFBieVEMuCDiAd   \n",
       "31915    0.655  126.021  audio_features  3Jkq5FTaZccp5bWIz5FcpD   \n",
       "31916    0.269  105.047  audio_features  6xsbOYd05WwKS8E0C0qti6   \n",
       "31917    0.575  122.937  audio_features  5aVOsOzhXpR5lDSEw5IMqR   \n",
       "31918    0.753  124.008  audio_features  7A2sJipVevYIaZ62SacX4l   \n",
       "\n",
       "                                              track_href  \\\n",
       "0      https://api.spotify.com/v1/tracks/7BY005dacJkb...   \n",
       "1      https://api.spotify.com/v1/tracks/7yGR8R1HgQJe...   \n",
       "2      https://api.spotify.com/v1/tracks/0rRjGruFonCG...   \n",
       "3      https://api.spotify.com/v1/tracks/5khS7MQTgrRe...   \n",
       "4      https://api.spotify.com/v1/tracks/61Q9oJNd9hJQ...   \n",
       "...                                                  ...   \n",
       "31914  https://api.spotify.com/v1/tracks/2Zi4o5xCAFBi...   \n",
       "31915  https://api.spotify.com/v1/tracks/3Jkq5FTaZccp...   \n",
       "31916  https://api.spotify.com/v1/tracks/6xsbOYd05WwK...   \n",
       "31917  https://api.spotify.com/v1/tracks/5aVOsOzhXpR5...   \n",
       "31918  https://api.spotify.com/v1/tracks/7A2sJipVevYI...   \n",
       "\n",
       "                                            analysis_url  duration_ms  \\\n",
       "0      https://api.spotify.com/v1/audio-analysis/7BY0...       271280   \n",
       "1      https://api.spotify.com/v1/audio-analysis/7yGR...       187613   \n",
       "2      https://api.spotify.com/v1/audio-analysis/0rRj...       320654   \n",
       "3      https://api.spotify.com/v1/audio-analysis/5khS...       312133   \n",
       "4      https://api.spotify.com/v1/audio-analysis/61Q9...       269720   \n",
       "...                                                  ...          ...   \n",
       "31914  https://api.spotify.com/v1/audio-analysis/2Zi4...       405719   \n",
       "31915  https://api.spotify.com/v1/audio-analysis/3Jkq...       533333   \n",
       "31916  https://api.spotify.com/v1/audio-analysis/6xsb...       389914   \n",
       "31917  https://api.spotify.com/v1/audio-analysis/5aVO...       198948   \n",
       "31918  https://api.spotify.com/v1/audio-analysis/7A2s...       483853   \n",
       "\n",
       "       time_signature  \n",
       "0                   3  \n",
       "1                   4  \n",
       "2                   4  \n",
       "3                   4  \n",
       "4                   3  \n",
       "...               ...  \n",
       "31914               4  \n",
       "31915               4  \n",
       "31916               3  \n",
       "31917               4  \n",
       "31918               4  \n",
       "\n",
       "[31919 rows x 20 columns]"
      ]
     },
     "execution_count": 516,
     "metadata": {},
     "output_type": "execute_result"
    }
   ],
   "source": [
    "final_dataframe"
   ]
  },
  {
   "cell_type": "code",
   "execution_count": 518,
   "id": "8edc7323-e7a2-40b7-89ac-17b9f388c66a",
   "metadata": {},
   "outputs": [
    {
     "data": {
      "text/plain": [
       "artist               object\n",
       "song                 object\n",
       "uris                 object\n",
       "danceability        float64\n",
       "energy              float64\n",
       "key                   int64\n",
       "loudness            float64\n",
       "mode                  int64\n",
       "speechiness         float64\n",
       "acousticness        float64\n",
       "instrumentalness    float64\n",
       "liveness            float64\n",
       "valence             float64\n",
       "tempo               float64\n",
       "types                object\n",
       "ids                  object\n",
       "track_href           object\n",
       "analysis_url         object\n",
       "duration_ms           int64\n",
       "time_signature        int64\n",
       "dtype: object"
      ]
     },
     "execution_count": 518,
     "metadata": {},
     "output_type": "execute_result"
    }
   ],
   "source": [
    "final_dataframe.dtypes"
   ]
  },
  {
   "cell_type": "code",
   "execution_count": 519,
   "id": "bf441f60-cad8-4d75-9a5b-a6e5042c317a",
   "metadata": {},
   "outputs": [],
   "source": [
    "info_dataframe = final_dataframe._get_numeric_data()"
   ]
  },
  {
   "cell_type": "code",
   "execution_count": 520,
   "id": "2cff895b-fecf-47cd-b7a2-3b4be57d4a44",
   "metadata": {},
   "outputs": [
    {
     "data": {
      "text/html": [
       "<div>\n",
       "<style scoped>\n",
       "    .dataframe tbody tr th:only-of-type {\n",
       "        vertical-align: middle;\n",
       "    }\n",
       "\n",
       "    .dataframe tbody tr th {\n",
       "        vertical-align: top;\n",
       "    }\n",
       "\n",
       "    .dataframe thead th {\n",
       "        text-align: right;\n",
       "    }\n",
       "</style>\n",
       "<table border=\"1\" class=\"dataframe\">\n",
       "  <thead>\n",
       "    <tr style=\"text-align: right;\">\n",
       "      <th></th>\n",
       "      <th>danceability</th>\n",
       "      <th>energy</th>\n",
       "      <th>key</th>\n",
       "      <th>loudness</th>\n",
       "      <th>mode</th>\n",
       "      <th>speechiness</th>\n",
       "      <th>acousticness</th>\n",
       "      <th>instrumentalness</th>\n",
       "      <th>liveness</th>\n",
       "      <th>valence</th>\n",
       "      <th>tempo</th>\n",
       "      <th>duration_ms</th>\n",
       "      <th>time_signature</th>\n",
       "    </tr>\n",
       "  </thead>\n",
       "  <tbody>\n",
       "    <tr>\n",
       "      <th>0</th>\n",
       "      <td>0.295</td>\n",
       "      <td>0.584</td>\n",
       "      <td>9</td>\n",
       "      <td>-6.696</td>\n",
       "      <td>0</td>\n",
       "      <td>0.0345</td>\n",
       "      <td>0.000385</td>\n",
       "      <td>0.218000</td>\n",
       "      <td>0.0996</td>\n",
       "      <td>0.228</td>\n",
       "      <td>117.200</td>\n",
       "      <td>271280</td>\n",
       "      <td>3</td>\n",
       "    </tr>\n",
       "    <tr>\n",
       "      <th>1</th>\n",
       "      <td>0.552</td>\n",
       "      <td>0.704</td>\n",
       "      <td>1</td>\n",
       "      <td>-4.798</td>\n",
       "      <td>1</td>\n",
       "      <td>0.0344</td>\n",
       "      <td>0.000393</td>\n",
       "      <td>0.000104</td>\n",
       "      <td>0.0993</td>\n",
       "      <td>0.677</td>\n",
       "      <td>122.850</td>\n",
       "      <td>187613</td>\n",
       "      <td>4</td>\n",
       "    </tr>\n",
       "    <tr>\n",
       "      <th>2</th>\n",
       "      <td>0.689</td>\n",
       "      <td>0.338</td>\n",
       "      <td>11</td>\n",
       "      <td>-7.634</td>\n",
       "      <td>0</td>\n",
       "      <td>0.0629</td>\n",
       "      <td>0.349000</td>\n",
       "      <td>0.000057</td>\n",
       "      <td>0.0649</td>\n",
       "      <td>0.568</td>\n",
       "      <td>128.012</td>\n",
       "      <td>320654</td>\n",
       "      <td>4</td>\n",
       "    </tr>\n",
       "    <tr>\n",
       "      <th>3</th>\n",
       "      <td>0.420</td>\n",
       "      <td>0.702</td>\n",
       "      <td>1</td>\n",
       "      <td>-13.821</td>\n",
       "      <td>1</td>\n",
       "      <td>0.0491</td>\n",
       "      <td>0.020300</td>\n",
       "      <td>0.000206</td>\n",
       "      <td>0.9660</td>\n",
       "      <td>0.508</td>\n",
       "      <td>114.903</td>\n",
       "      <td>312133</td>\n",
       "      <td>4</td>\n",
       "    </tr>\n",
       "    <tr>\n",
       "      <th>4</th>\n",
       "      <td>0.315</td>\n",
       "      <td>0.534</td>\n",
       "      <td>9</td>\n",
       "      <td>-7.552</td>\n",
       "      <td>0</td>\n",
       "      <td>0.0310</td>\n",
       "      <td>0.000825</td>\n",
       "      <td>0.108000</td>\n",
       "      <td>0.1010</td>\n",
       "      <td>0.283</td>\n",
       "      <td>116.891</td>\n",
       "      <td>269720</td>\n",
       "      <td>3</td>\n",
       "    </tr>\n",
       "    <tr>\n",
       "      <th>...</th>\n",
       "      <td>...</td>\n",
       "      <td>...</td>\n",
       "      <td>...</td>\n",
       "      <td>...</td>\n",
       "      <td>...</td>\n",
       "      <td>...</td>\n",
       "      <td>...</td>\n",
       "      <td>...</td>\n",
       "      <td>...</td>\n",
       "      <td>...</td>\n",
       "      <td>...</td>\n",
       "      <td>...</td>\n",
       "      <td>...</td>\n",
       "    </tr>\n",
       "    <tr>\n",
       "      <th>31914</th>\n",
       "      <td>0.616</td>\n",
       "      <td>0.694</td>\n",
       "      <td>7</td>\n",
       "      <td>-11.264</td>\n",
       "      <td>1</td>\n",
       "      <td>0.0672</td>\n",
       "      <td>0.044500</td>\n",
       "      <td>0.281000</td>\n",
       "      <td>0.0972</td>\n",
       "      <td>0.208</td>\n",
       "      <td>115.469</td>\n",
       "      <td>405719</td>\n",
       "      <td>4</td>\n",
       "    </tr>\n",
       "    <tr>\n",
       "      <th>31915</th>\n",
       "      <td>0.783</td>\n",
       "      <td>0.806</td>\n",
       "      <td>4</td>\n",
       "      <td>-8.365</td>\n",
       "      <td>1</td>\n",
       "      <td>0.0465</td>\n",
       "      <td>0.588000</td>\n",
       "      <td>0.950000</td>\n",
       "      <td>0.0921</td>\n",
       "      <td>0.655</td>\n",
       "      <td>126.021</td>\n",
       "      <td>533333</td>\n",
       "      <td>4</td>\n",
       "    </tr>\n",
       "    <tr>\n",
       "      <th>31916</th>\n",
       "      <td>0.498</td>\n",
       "      <td>0.850</td>\n",
       "      <td>4</td>\n",
       "      <td>-7.547</td>\n",
       "      <td>0</td>\n",
       "      <td>0.0537</td>\n",
       "      <td>0.000764</td>\n",
       "      <td>0.810000</td>\n",
       "      <td>0.2020</td>\n",
       "      <td>0.269</td>\n",
       "      <td>105.047</td>\n",
       "      <td>389914</td>\n",
       "      <td>3</td>\n",
       "    </tr>\n",
       "    <tr>\n",
       "      <th>31917</th>\n",
       "      <td>0.669</td>\n",
       "      <td>0.718</td>\n",
       "      <td>7</td>\n",
       "      <td>-9.195</td>\n",
       "      <td>1</td>\n",
       "      <td>0.0366</td>\n",
       "      <td>0.015700</td>\n",
       "      <td>0.458000</td>\n",
       "      <td>0.1300</td>\n",
       "      <td>0.575</td>\n",
       "      <td>122.937</td>\n",
       "      <td>198948</td>\n",
       "      <td>4</td>\n",
       "    </tr>\n",
       "    <tr>\n",
       "      <th>31918</th>\n",
       "      <td>0.890</td>\n",
       "      <td>0.726</td>\n",
       "      <td>11</td>\n",
       "      <td>-11.133</td>\n",
       "      <td>0</td>\n",
       "      <td>0.0468</td>\n",
       "      <td>0.000049</td>\n",
       "      <td>0.894000</td>\n",
       "      <td>0.0839</td>\n",
       "      <td>0.753</td>\n",
       "      <td>124.008</td>\n",
       "      <td>483853</td>\n",
       "      <td>4</td>\n",
       "    </tr>\n",
       "  </tbody>\n",
       "</table>\n",
       "<p>31919 rows × 13 columns</p>\n",
       "</div>"
      ],
      "text/plain": [
       "       danceability  energy  key  loudness  mode  speechiness  acousticness  \\\n",
       "0             0.295   0.584    9    -6.696     0       0.0345      0.000385   \n",
       "1             0.552   0.704    1    -4.798     1       0.0344      0.000393   \n",
       "2             0.689   0.338   11    -7.634     0       0.0629      0.349000   \n",
       "3             0.420   0.702    1   -13.821     1       0.0491      0.020300   \n",
       "4             0.315   0.534    9    -7.552     0       0.0310      0.000825   \n",
       "...             ...     ...  ...       ...   ...          ...           ...   \n",
       "31914         0.616   0.694    7   -11.264     1       0.0672      0.044500   \n",
       "31915         0.783   0.806    4    -8.365     1       0.0465      0.588000   \n",
       "31916         0.498   0.850    4    -7.547     0       0.0537      0.000764   \n",
       "31917         0.669   0.718    7    -9.195     1       0.0366      0.015700   \n",
       "31918         0.890   0.726   11   -11.133     0       0.0468      0.000049   \n",
       "\n",
       "       instrumentalness  liveness  valence    tempo  duration_ms  \\\n",
       "0              0.218000    0.0996    0.228  117.200       271280   \n",
       "1              0.000104    0.0993    0.677  122.850       187613   \n",
       "2              0.000057    0.0649    0.568  128.012       320654   \n",
       "3              0.000206    0.9660    0.508  114.903       312133   \n",
       "4              0.108000    0.1010    0.283  116.891       269720   \n",
       "...                 ...       ...      ...      ...          ...   \n",
       "31914          0.281000    0.0972    0.208  115.469       405719   \n",
       "31915          0.950000    0.0921    0.655  126.021       533333   \n",
       "31916          0.810000    0.2020    0.269  105.047       389914   \n",
       "31917          0.458000    0.1300    0.575  122.937       198948   \n",
       "31918          0.894000    0.0839    0.753  124.008       483853   \n",
       "\n",
       "       time_signature  \n",
       "0                   3  \n",
       "1                   4  \n",
       "2                   4  \n",
       "3                   4  \n",
       "4                   3  \n",
       "...               ...  \n",
       "31914               4  \n",
       "31915               4  \n",
       "31916               3  \n",
       "31917               4  \n",
       "31918               4  \n",
       "\n",
       "[31919 rows x 13 columns]"
      ]
     },
     "execution_count": 520,
     "metadata": {},
     "output_type": "execute_result"
    }
   ],
   "source": [
    "info_dataframe"
   ]
  },
  {
   "cell_type": "code",
   "execution_count": 521,
   "id": "8ae0ef46-77bd-4fe4-ae34-0a55d56226d3",
   "metadata": {},
   "outputs": [],
   "source": [
    "#final_dataframe.to_excel('./files_for_lab/songs_completed.xlsx')\n",
    "#info_dataframe.to_excel('./files_for_lab/songs_info.xlsx')"
   ]
  },
  {
   "cell_type": "markdown",
   "id": "1818e2a1-718c-48e7-a421-9ec6071bcb2c",
   "metadata": {},
   "source": [
    "## Clustering"
   ]
  },
  {
   "cell_type": "markdown",
   "id": "5b27d0cf-c136-4b4b-8633-24b523ecacca",
   "metadata": {},
   "source": [
    "#### Scaling variables"
   ]
  },
  {
   "cell_type": "code",
   "execution_count": 527,
   "id": "6d32cea1-adac-4be2-a322-6a3063d2f097",
   "metadata": {},
   "outputs": [
    {
     "data": {
      "text/html": [
       "<div>\n",
       "<style scoped>\n",
       "    .dataframe tbody tr th:only-of-type {\n",
       "        vertical-align: middle;\n",
       "    }\n",
       "\n",
       "    .dataframe tbody tr th {\n",
       "        vertical-align: top;\n",
       "    }\n",
       "\n",
       "    .dataframe thead th {\n",
       "        text-align: right;\n",
       "    }\n",
       "</style>\n",
       "<table border=\"1\" class=\"dataframe\">\n",
       "  <thead>\n",
       "    <tr style=\"text-align: right;\">\n",
       "      <th></th>\n",
       "      <th>danceability</th>\n",
       "      <th>energy</th>\n",
       "      <th>key</th>\n",
       "      <th>loudness</th>\n",
       "      <th>mode</th>\n",
       "      <th>speechiness</th>\n",
       "      <th>acousticness</th>\n",
       "      <th>instrumentalness</th>\n",
       "      <th>liveness</th>\n",
       "      <th>valence</th>\n",
       "      <th>tempo</th>\n",
       "      <th>duration_ms</th>\n",
       "      <th>time_signature</th>\n",
       "    </tr>\n",
       "  </thead>\n",
       "  <tbody>\n",
       "    <tr>\n",
       "      <th>0</th>\n",
       "      <td>-1.284018</td>\n",
       "      <td>-0.327681</td>\n",
       "      <td>1.058897</td>\n",
       "      <td>0.370243</td>\n",
       "      <td>-1.482449</td>\n",
       "      <td>-0.453260</td>\n",
       "      <td>-0.759249</td>\n",
       "      <td>0.158366</td>\n",
       "      <td>-0.614339</td>\n",
       "      <td>-1.048930</td>\n",
       "      <td>-0.216524</td>\n",
       "      <td>0.366673</td>\n",
       "      <td>-2.171096</td>\n",
       "    </tr>\n",
       "    <tr>\n",
       "      <th>1</th>\n",
       "      <td>0.185790</td>\n",
       "      <td>0.152772</td>\n",
       "      <td>-1.167280</td>\n",
       "      <td>0.736868</td>\n",
       "      <td>0.674559</td>\n",
       "      <td>-0.454185</td>\n",
       "      <td>-0.759222</td>\n",
       "      <td>-0.550530</td>\n",
       "      <td>-0.615875</td>\n",
       "      <td>0.719704</td>\n",
       "      <td>-0.027354</td>\n",
       "      <td>-0.384792</td>\n",
       "      <td>0.221667</td>\n",
       "    </tr>\n",
       "    <tr>\n",
       "      <th>2</th>\n",
       "      <td>0.969307</td>\n",
       "      <td>-1.312607</td>\n",
       "      <td>1.615442</td>\n",
       "      <td>0.189055</td>\n",
       "      <td>-1.482449</td>\n",
       "      <td>-0.190757</td>\n",
       "      <td>0.384668</td>\n",
       "      <td>-0.550682</td>\n",
       "      <td>-0.791969</td>\n",
       "      <td>0.290348</td>\n",
       "      <td>0.145477</td>\n",
       "      <td>0.810132</td>\n",
       "      <td>0.221667</td>\n",
       "    </tr>\n",
       "    <tr>\n",
       "      <th>3</th>\n",
       "      <td>-0.569131</td>\n",
       "      <td>0.144764</td>\n",
       "      <td>-1.167280</td>\n",
       "      <td>-1.006048</td>\n",
       "      <td>0.674559</td>\n",
       "      <td>-0.318312</td>\n",
       "      <td>-0.693901</td>\n",
       "      <td>-0.550198</td>\n",
       "      <td>3.820768</td>\n",
       "      <td>0.054004</td>\n",
       "      <td>-0.293431</td>\n",
       "      <td>0.733599</td>\n",
       "      <td>0.221667</td>\n",
       "    </tr>\n",
       "    <tr>\n",
       "      <th>4</th>\n",
       "      <td>-1.169636</td>\n",
       "      <td>-0.527869</td>\n",
       "      <td>1.058897</td>\n",
       "      <td>0.204895</td>\n",
       "      <td>-1.482449</td>\n",
       "      <td>-0.485611</td>\n",
       "      <td>-0.757805</td>\n",
       "      <td>-0.199505</td>\n",
       "      <td>-0.607173</td>\n",
       "      <td>-0.832282</td>\n",
       "      <td>-0.226870</td>\n",
       "      <td>0.352662</td>\n",
       "      <td>-2.171096</td>\n",
       "    </tr>\n",
       "  </tbody>\n",
       "</table>\n",
       "</div>"
      ],
      "text/plain": [
       "   danceability    energy       key  loudness      mode  speechiness  \\\n",
       "0     -1.284018 -0.327681  1.058897  0.370243 -1.482449    -0.453260   \n",
       "1      0.185790  0.152772 -1.167280  0.736868  0.674559    -0.454185   \n",
       "2      0.969307 -1.312607  1.615442  0.189055 -1.482449    -0.190757   \n",
       "3     -0.569131  0.144764 -1.167280 -1.006048  0.674559    -0.318312   \n",
       "4     -1.169636 -0.527869  1.058897  0.204895 -1.482449    -0.485611   \n",
       "\n",
       "   acousticness  instrumentalness  liveness   valence     tempo  duration_ms  \\\n",
       "0     -0.759249          0.158366 -0.614339 -1.048930 -0.216524     0.366673   \n",
       "1     -0.759222         -0.550530 -0.615875  0.719704 -0.027354    -0.384792   \n",
       "2      0.384668         -0.550682 -0.791969  0.290348  0.145477     0.810132   \n",
       "3     -0.693901         -0.550198  3.820768  0.054004 -0.293431     0.733599   \n",
       "4     -0.757805         -0.199505 -0.607173 -0.832282 -0.226870     0.352662   \n",
       "\n",
       "   time_signature  \n",
       "0       -2.171096  \n",
       "1        0.221667  \n",
       "2        0.221667  \n",
       "3        0.221667  \n",
       "4       -2.171096  "
      ]
     },
     "execution_count": 527,
     "metadata": {},
     "output_type": "execute_result"
    }
   ],
   "source": [
    "scaled_variables = StandardScaler().fit_transform(info_dataframe)\n",
    "\n",
    "# Now, all features will have the same weight.\n",
    "pd.DataFrame(scaled_variables,columns=info_dataframe.columns).head()"
   ]
  },
  {
   "cell_type": "markdown",
   "id": "af9cb9af-e9f4-4dd6-88b2-f2403e2a7bf4",
   "metadata": {},
   "source": [
    "#### Choosing K"
   ]
  },
  {
   "cell_type": "code",
   "execution_count": 532,
   "id": "a823c34d-f202-46db-9068-198e55e2af5e",
   "metadata": {},
   "outputs": [
    {
     "data": {
      "text/plain": [
       "Text(0.5, 1.0, 'Elbow Method showing the optimal k')"
      ]
     },
     "execution_count": 532,
     "metadata": {},
     "output_type": "execute_result"
    },
    {
     "data": {
      "image/png": "[encoded data removed]",
      "text/plain": [
       "<Figure size 1152x576 with 1 Axes>"
      ]
     },
     "metadata": {
      "needs_background": "light"
     },
     "output_type": "display_data"
    }
   ],
   "source": [
    "import numpy as np\n",
    "K = range(2, 30)\n",
    "inertia = []\n",
    "\n",
    "for k in K:\n",
    "    kmeans = KMeans(n_clusters=k,\n",
    "                    random_state=1234)\n",
    "    kmeans.fit(scaled_variables)\n",
    "    inertia.append(kmeans.inertia_)\n",
    "\n",
    "import matplotlib.pyplot as plt\n",
    "%matplotlib inline\n",
    "\n",
    "plt.figure(figsize=(16,8))\n",
    "plt.plot(K, inertia, 'bx-')\n",
    "plt.xlabel('k')\n",
    "plt.ylabel('inertia')\n",
    "plt.xticks(np.arange(min(K), max(K)+1, 1.0))\n",
    "plt.title('Elbow Method showing the optimal k')"
   ]
  },
  {
   "cell_type": "markdown",
   "id": "a30f2693-8874-46f0-9b2d-c1155f982c9c",
   "metadata": {},
   "source": [
    "#### Starting cluster"
   ]
  },
  {
   "cell_type": "code",
   "execution_count": 537,
   "id": "6fc6395d-314c-4db9-8391-6dec8becd824",
   "metadata": {},
   "outputs": [
    {
     "data": {
      "text/plain": [
       "0    3301\n",
       "1    5877\n",
       "2    7519\n",
       "3     474\n",
       "4    2266\n",
       "5    1904\n",
       "6    4169\n",
       "7    6112\n",
       "8     297\n",
       "dtype: int64"
      ]
     },
     "execution_count": 537,
     "metadata": {},
     "output_type": "execute_result"
    }
   ],
   "source": [
    "kmeans = KMeans(n_clusters=9, random_state=1234)\n",
    "kmeans.fit(scaled_variables)\n",
    "clusters = kmeans.predict(scaled_variables)\n",
    "\n",
    "# Check the size of the clusters\n",
    "pd.Series(clusters).value_counts().sort_index()"
   ]
  },
  {
   "cell_type": "code",
   "execution_count": 540,
   "id": "93aa12c4-4dd9-47ae-bfec-6b95cd9461b8",
   "metadata": {},
   "outputs": [],
   "source": [
    "clusters_dataframe = pd.DataFrame(clusters, columns = ['cluster_type']) \n",
    "comparing_table = pd.concat([clusters_dataframe, final_dataframe], axis = 1)"
   ]
  },
  {
   "cell_type": "code",
   "execution_count": null,
   "id": "e15b69b8-2f44-4f3c-840b-3e5bb29fbb94",
   "metadata": {},
   "outputs": [],
   "source": [
    "#comparing_table.to_excel('./files_for_lab/comparing_table.xlsx')"
   ]
  },
  {
   "cell_type": "code",
   "execution_count": 541,
   "id": "545c74ff-5758-40f1-ad46-3b569ce087c5",
   "metadata": {},
   "outputs": [
    {
     "data": {
      "image/png": "[encoded data removed]",
      "text/plain": [
       "<Figure size 360x360 with 1 Axes>"
      ]
     },
     "metadata": {
      "needs_background": "light"
     },
     "output_type": "display_data"
    }
   ],
   "source": [
    "plt.figure(figsize=(5, 5))\n",
    "plt.scatter(comparing_table['danceability'], comparing_table['energy'], c=comparing_table['cluster_type'],alpha=0.5)\n",
    "plt.show()"
   ]
  },
  {
   "cell_type": "markdown",
   "id": "0828a92e-9cee-4c24-8167-10d697daddfd",
   "metadata": {},
   "source": [
    "## Improving the prototype"
   ]
  },
  {
   "cell_type": "code",
   "execution_count": 606,
   "id": "20c5feb8-0a84-49c2-b926-b27f10e3586e",
   "metadata": {},
   "outputs": [],
   "source": [
    "def recommending_song_improved(song):\n",
    "    songs_to_recommend_top_100 = []\n",
    "    position_top_100 = []\n",
    "    songs_to_recommend_second_top = []\n",
    "    position_second_top = []\n",
    "    for i in range(len(top_100['song'])):\n",
    "        if song == top_100['song'][i]:\n",
    "            songs_to_recommend_top_100.append(top_100['song'][i])\n",
    "            position_top_100.append(i)\n",
    "        elif song == second_top['song'][i]:\n",
    "            songs_to_recommend_second_top.append(second_top['song'][i])\n",
    "            position_second_top.append(i)\n",
    "    if len(songs_to_recommend_top_100)> 0:\n",
    "        random_number = position_top_100[0]\n",
    "        while random_number == position_top_100[0]:\n",
    "            random_number = randint(0,99)\n",
    "        i_recommend = top_100['song'][random_number]\n",
    "        return print(\"Good choice! This song is now in the position number \" + str(position_top_100[0]+1) + \" of our first top from \" + top_100['artist'][position_top_100[0]] + \". Here we have another recommendation of this top 100 songs: \" + i_recommend + \" from \" + top_100['artist'][random_number])\n",
    "    elif len(songs_to_recommend_second_top)> 0:\n",
    "        random_number = position_second_top[0]\n",
    "        while random_number == position_second_top[0]:\n",
    "            random_number = randint(0,99)\n",
    "        i_recommend = second_top['song'][random_number]\n",
    "        return print(\"Good choice! This song is now in the position number \" + str(position_second_top[0]+1) + \" of our second top from \" + second_top['artist'][position_second_top[0]] + \". Here we have another recommendation of this top 100 songs: \" + i_recommend + \" from \" + second_top['artist'][random_number])\n",
    "    else:\n",
    "        results = sp.search(q=song, type = 'track', limit=1)\n",
    "        uri = results[\"tracks\"][\"items\"][0][\"uri\"]\n",
    "        features = sp.audio_features(uri)\n",
    "        data_features = pd.DataFrame(features)\n",
    "        numeric_features = data_features._get_numeric_data()\n",
    "        cluster_prediction = kmeans.predict(numeric_features)[0]\n",
    "        similar_songs = comparing_table[comparing_table['cluster_type'] == cluster_prediction].sample(1)\n",
    "        song_recommended = similar_songs['song'].values[0]\n",
    "        artist_recommended = similar_songs['artist'].values[0]\n",
    "        print(\"Your song is not in the top 100, but we can recommend you this song from our database: \"+ song_recommended + \" from \" + artist_recommended+ \"... Hope you like it!!!\")\n",
    "        return 0"
   ]
  },
  {
   "cell_type": "code",
   "execution_count": 607,
   "id": "67b361d9-2cd0-420b-9dda-fd451037881b",
   "metadata": {},
   "outputs": [],
   "source": [
    "def asking_song_improved():\n",
    "    print(\"Which song do you want?\")\n",
    "    song_name = input()\n",
    "    value = recommending_song_improved(song_name)\n",
    "    while value == 0:\n",
    "        print(\"Do you want to try again?(yes/no)\")\n",
    "        yes_no = input()\n",
    "        if yes_no == 'yes':\n",
    "            print(\"Which new song do you want to try?\")\n",
    "            song_name = input()\n",
    "            value = recommending_song_improved(song_name)\n",
    "        elif yes_no == 'no':\n",
    "            value = 1\n",
    "        else:\n",
    "            print(\"That's not a valid value\")\n",
    "            value = 1\n",
    "    return"
   ]
  },
  {
   "cell_type": "code",
   "execution_count": 608,
   "id": "e1226e9b-5386-45ba-ace4-7cd2d981b6c0",
   "metadata": {},
   "outputs": [],
   "source": [
    "def asking_improved():\n",
    "    print(\"If you want to search by song enter 1, and if you want to search by artist enter 2\")\n",
    "    search = input()\n",
    "    while (search != '1') & (search != '2'):\n",
    "        print(\"This isn't a valid value... Try again\")\n",
    "        print(\"If you want to search by song enter 1, and if you want to search by artist enter 2\")\n",
    "        search = input()\n",
    "    if search == '1':\n",
    "        return asking_song_improved()\n",
    "    elif search == '2':\n",
    "        return asking_artist_improved()"
   ]
  },
  {
   "cell_type": "code",
   "execution_count": 609,
   "id": "a7abce51-d1a7-4844-84ab-1c9702299317",
   "metadata": {},
   "outputs": [],
   "source": [
    "def recommending_artist_improved(artist):\n",
    "    songs_to_recommend_top_100 = []\n",
    "    position_top_100 = []\n",
    "    songs_to_recommend_second_top = []\n",
    "    position_second_top = []\n",
    "    for i in range(len(top_100['artist'])):\n",
    "        text1 = top_100['artist'][i]\n",
    "        text2 = second_top['artist'][i]\n",
    "        pattern = artist\n",
    "        number_1 = re.findall(pattern, text1)\n",
    "        number_2 = re.findall(pattern, text2)\n",
    "        if len(number_1)> 0:\n",
    "            songs_to_recommend_top_100.append(top_100['song'][i])\n",
    "            position_top_100.append(i)\n",
    "            number_1.pop(0)\n",
    "        if len(number_2)> 0:\n",
    "            songs_to_recommend_second_top.append(second_top['song'][i])\n",
    "            position_second_top.append(i)\n",
    "            number_2.pop(0)\n",
    "    if len(songs_to_recommend_top_100)> 0:\n",
    "        print('Good choice! This artist has ' + str(len(songs_to_recommend_top_100)) + ' songs:')\n",
    "        for i in range(len(songs_to_recommend_top_100)):\n",
    "            print('-' + songs_to_recommend_top_100[i] + ' in position ' + str(position_top_100[i] + 1))\n",
    "        return \n",
    "    elif len(songs_to_recommend_second_top)> 0:\n",
    "        print('Good choice! This artist has ' + str(len(songs_to_recommend_second_top)) + ' songs:')\n",
    "        for i in range(len(songs_to_recommend_second_top)):\n",
    "            print('-' + songs_to_recommend_second_top[i] + ' in position ' + str(position_second_top[i] + 1))\n",
    "        return \n",
    "    else:\n",
    "        artist_songs = comparing_table[comparing_table['artist'] == artist].head()\n",
    "        if len(artist_songs['artist']) > 0:\n",
    "            random_one = artist_songs['song'].values[0]\n",
    "            random_two = artist_songs['song'].values[1]\n",
    "            print(\"Sorry, this artist isn't now into the top 100, but in my list i have \" + str(len(comparing_table[comparing_table['artist'] == artist])) + \" \" + artist+ \"'s songs, for example:\\n\")\n",
    "            print(\"- \" + random_one + \"\\n\")\n",
    "            print(\"- \" + random_two)\n",
    "            return 0\n",
    "        else:\n",
    "            print(\"Sorry, this artist isn't into the top 100 and in my list there are no songs from this artist\")\n",
    "            return 0"
   ]
  },
  {
   "cell_type": "code",
   "execution_count": 611,
   "id": "9482df07-6f87-43dc-afae-21c327e856bb",
   "metadata": {},
   "outputs": [],
   "source": [
    "def asking_artist_improved():\n",
    "    print(\"Which artist do you want?\")\n",
    "    artist_name = input()\n",
    "    value = recommending_artist_improved(artist_name)\n",
    "    while value == 0:\n",
    "        print(\"Do you want to try again?(yes/no)\")\n",
    "        yes_no = input()\n",
    "        if yes_no == 'yes':\n",
    "            print(\"Which new artist do you want to try?\")\n",
    "            song_name = input()\n",
    "            value = recommending_artist_improved(artist_name)\n",
    "        elif yes_no == 'no':\n",
    "            value = 1\n",
    "        else:\n",
    "            print(\"That's not a valid value\")\n",
    "            value = 1\n",
    "    return"
   ]
  },
  {
   "cell_type": "code",
   "execution_count": 612,
   "id": "a2f2f488-5de8-4c09-8b73-fa569ff6d7cd",
   "metadata": {},
   "outputs": [
    {
     "name": "stdout",
     "output_type": "stream",
     "text": [
      "If you want to search by song enter 1, and if you want to search by artist enter 2\n"
     ]
    },
    {
     "name": "stdin",
     "output_type": "stream",
     "text": [
      " 2\n"
     ]
    },
    {
     "name": "stdout",
     "output_type": "stream",
     "text": [
      "Which artist do you want?\n"
     ]
    },
    {
     "name": "stdin",
     "output_type": "stream",
     "text": [
      " The Animals\n"
     ]
    },
    {
     "name": "stdout",
     "output_type": "stream",
     "text": [
      "Sorry, this artist isn't now into the top 100, but in my list i have 200 The Animals's songs, for example:\n",
      "\n",
      "- House Of The Rising Sun\n",
      "\n",
      "- It's My Life\n",
      "Do you want to try again?(yes/no)\n"
     ]
    },
    {
     "name": "stdin",
     "output_type": "stream",
     "text": [
      " no\n"
     ]
    }
   ],
   "source": [
    "asking_improved()"
   ]
  },
  {
   "cell_type": "code",
   "execution_count": null,
   "id": "279636f1-c3d0-4bc8-b65c-e8390f694ffc",
   "metadata": {},
   "outputs": [],
   "source": []
  },
  {
   "cell_type": "code",
   "execution_count": null,
   "id": "7d5adc9e-67cd-417d-8962-8a18cc5d2f35",
   "metadata": {},
   "outputs": [],
   "source": []
  }
 ],
 "metadata": {
  "kernelspec": {
   "display_name": "Python 3",
   "language": "python",
   "name": "python3"
  },
  "language_info": {
   "codemirror_mode": {
    "name": "ipython",
    "version": 3
   },
   "file_extension": ".py",
   "mimetype": "text/x-python",
   "name": "python",
   "nbconvert_exporter": "python",
   "pygments_lexer": "ipython3",
   "version": "3.8.8"
  }
 },
 "nbformat": 4,
 "nbformat_minor": 5
}
